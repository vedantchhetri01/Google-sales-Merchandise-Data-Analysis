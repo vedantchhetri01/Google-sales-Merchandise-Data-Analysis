{
 "cells": [
  {
   "cell_type": "markdown",
   "id": "c7ed3392-5e9d-4f1a-9ece-3cef232f257e",
   "metadata": {},
   "source": [
    "**ANALYSIS OF GOOGLE MERCHANDISE SALES DATA OF**\n",
    "               **NOV 2020**"
   ]
  },
  {
   "cell_type": "markdown",
   "id": "a4c1b716-111c-415a-84d8-6f6f420d64ab",
   "metadata": {},
   "source": [
    "#importing libraries"
   ]
  },
  {
   "cell_type": "code",
   "execution_count": 3,
   "id": "b3eb0d82-7c94-4f99-9968-846a0ea68d10",
   "metadata": {},
   "outputs": [],
   "source": [
    "import pandas as pd \n",
    "import seaborn as sns\n",
    "import plotly.express as px "
   ]
  },
  {
   "cell_type": "markdown",
   "id": "2a033019-90c4-4da5-8a20-0f61d18f07f5",
   "metadata": {},
   "source": [
    "#Reading csv file"
   ]
  },
  {
   "cell_type": "code",
   "execution_count": 4,
   "id": "8006a9bb-a951-4582-8d2a-15bf9862301b",
   "metadata": {},
   "outputs": [],
   "source": [
    "read_pd = pd.read_csv('E:\\\\SALES_DATA.csv')"
   ]
  },
  {
   "cell_type": "code",
   "execution_count": 5,
   "id": "f99dac08-1be5-4f53-b603-f41e3f0b18f7",
   "metadata": {},
   "outputs": [
    {
     "name": "stdout",
     "output_type": "stream",
     "text": [
      "<class 'pandas.core.frame.DataFrame'>\n",
      "RangeIndex: 758884 entries, 0 to 758883\n",
      "Data columns (total 7 columns):\n",
      " #   Column         Non-Null Count   Dtype \n",
      "---  ------         --------------   ----- \n",
      " 0   user_id        758884 non-null  int64 \n",
      " 1   ga_session_id  758884 non-null  int64 \n",
      " 2   country        754329 non-null  object\n",
      " 3   device         758884 non-null  object\n",
      " 4   type           758884 non-null  object\n",
      " 5   item_id        758884 non-null  int64 \n",
      " 6   date           758884 non-null  object\n",
      "dtypes: int64(3), object(4)\n",
      "memory usage: 40.5+ MB\n"
     ]
    }
   ],
   "source": [
    "read_pd.info()"
   ]
  },
  {
   "cell_type": "code",
   "execution_count": 6,
   "id": "64641218-e9cf-46de-b825-742712f786e9",
   "metadata": {},
   "outputs": [
    {
     "data": {
      "text/html": [
       "<div>\n",
       "<style scoped>\n",
       "    .dataframe tbody tr th:only-of-type {\n",
       "        vertical-align: middle;\n",
       "    }\n",
       "\n",
       "    .dataframe tbody tr th {\n",
       "        vertical-align: top;\n",
       "    }\n",
       "\n",
       "    .dataframe thead th {\n",
       "        text-align: right;\n",
       "    }\n",
       "</style>\n",
       "<table border=\"1\" class=\"dataframe\">\n",
       "  <thead>\n",
       "    <tr style=\"text-align: right;\">\n",
       "      <th></th>\n",
       "      <th>user_id</th>\n",
       "      <th>ga_session_id</th>\n",
       "      <th>country</th>\n",
       "      <th>device</th>\n",
       "      <th>type</th>\n",
       "      <th>item_id</th>\n",
       "      <th>date</th>\n",
       "    </tr>\n",
       "  </thead>\n",
       "  <tbody>\n",
       "    <tr>\n",
       "      <th>0</th>\n",
       "      <td>2133</td>\n",
       "      <td>16909</td>\n",
       "      <td>US</td>\n",
       "      <td>mobile</td>\n",
       "      <td>purchase</td>\n",
       "      <td>94</td>\n",
       "      <td>2020-11-01 00:27:14</td>\n",
       "    </tr>\n",
       "    <tr>\n",
       "      <th>1</th>\n",
       "      <td>2133</td>\n",
       "      <td>16909</td>\n",
       "      <td>US</td>\n",
       "      <td>mobile</td>\n",
       "      <td>purchase</td>\n",
       "      <td>425</td>\n",
       "      <td>2020-11-01 00:27:14</td>\n",
       "    </tr>\n",
       "    <tr>\n",
       "      <th>2</th>\n",
       "      <td>5789</td>\n",
       "      <td>16908</td>\n",
       "      <td>SE</td>\n",
       "      <td>desktop</td>\n",
       "      <td>purchase</td>\n",
       "      <td>1</td>\n",
       "      <td>2020-11-01 01:44:44</td>\n",
       "    </tr>\n",
       "    <tr>\n",
       "      <th>3</th>\n",
       "      <td>5789</td>\n",
       "      <td>16908</td>\n",
       "      <td>SE</td>\n",
       "      <td>desktop</td>\n",
       "      <td>purchase</td>\n",
       "      <td>62</td>\n",
       "      <td>2020-11-01 01:44:44</td>\n",
       "    </tr>\n",
       "    <tr>\n",
       "      <th>4</th>\n",
       "      <td>5808</td>\n",
       "      <td>4267</td>\n",
       "      <td>US</td>\n",
       "      <td>mobile</td>\n",
       "      <td>add_to_cart</td>\n",
       "      <td>842</td>\n",
       "      <td>2020-11-01 03:06:29</td>\n",
       "    </tr>\n",
       "  </tbody>\n",
       "</table>\n",
       "</div>"
      ],
      "text/plain": [
       "   user_id  ga_session_id country   device         type  item_id  \\\n",
       "0     2133          16909      US   mobile     purchase       94   \n",
       "1     2133          16909      US   mobile     purchase      425   \n",
       "2     5789          16908      SE  desktop     purchase        1   \n",
       "3     5789          16908      SE  desktop     purchase       62   \n",
       "4     5808           4267      US   mobile  add_to_cart      842   \n",
       "\n",
       "                  date  \n",
       "0  2020-11-01 00:27:14  \n",
       "1  2020-11-01 00:27:14  \n",
       "2  2020-11-01 01:44:44  \n",
       "3  2020-11-01 01:44:44  \n",
       "4  2020-11-01 03:06:29  "
      ]
     },
     "execution_count": 6,
     "metadata": {},
     "output_type": "execute_result"
    }
   ],
   "source": [
    "read_pd.head(5)"
   ]
  },
  {
   "cell_type": "markdown",
   "id": "d6abe5bb-80ad-41f2-9b79-ae8910d29f4c",
   "metadata": {},
   "source": [
    "#Changing the Date "
   ]
  },
  {
   "cell_type": "code",
   "execution_count": 7,
   "id": "10bf0ae9-e435-4d8f-9723-7f83eea9f3af",
   "metadata": {},
   "outputs": [],
   "source": [
    "read_pd['date'] = pd.to_datetime(read_pd['date']).dt.strftime('%d-%m-%Y')"
   ]
  },
  {
   "cell_type": "code",
   "execution_count": 8,
   "id": "fdc5a6aa-e43b-4408-b97b-ec96e207115d",
   "metadata": {},
   "outputs": [
    {
     "data": {
      "text/html": [
       "<div>\n",
       "<style scoped>\n",
       "    .dataframe tbody tr th:only-of-type {\n",
       "        vertical-align: middle;\n",
       "    }\n",
       "\n",
       "    .dataframe tbody tr th {\n",
       "        vertical-align: top;\n",
       "    }\n",
       "\n",
       "    .dataframe thead th {\n",
       "        text-align: right;\n",
       "    }\n",
       "</style>\n",
       "<table border=\"1\" class=\"dataframe\">\n",
       "  <thead>\n",
       "    <tr style=\"text-align: right;\">\n",
       "      <th></th>\n",
       "      <th>user_id</th>\n",
       "      <th>ga_session_id</th>\n",
       "      <th>country</th>\n",
       "      <th>device</th>\n",
       "      <th>type</th>\n",
       "      <th>item_id</th>\n",
       "      <th>date</th>\n",
       "    </tr>\n",
       "  </thead>\n",
       "  <tbody>\n",
       "    <tr>\n",
       "      <th>758879</th>\n",
       "      <td>234237</td>\n",
       "      <td>12443</td>\n",
       "      <td>IN</td>\n",
       "      <td>desktop</td>\n",
       "      <td>add_to_cart</td>\n",
       "      <td>1130</td>\n",
       "      <td>31-01-2021</td>\n",
       "    </tr>\n",
       "    <tr>\n",
       "      <th>758880</th>\n",
       "      <td>234237</td>\n",
       "      <td>12443</td>\n",
       "      <td>IN</td>\n",
       "      <td>desktop</td>\n",
       "      <td>add_to_cart</td>\n",
       "      <td>973</td>\n",
       "      <td>31-01-2021</td>\n",
       "    </tr>\n",
       "    <tr>\n",
       "      <th>758881</th>\n",
       "      <td>234237</td>\n",
       "      <td>12443</td>\n",
       "      <td>IN</td>\n",
       "      <td>desktop</td>\n",
       "      <td>add_to_cart</td>\n",
       "      <td>915</td>\n",
       "      <td>31-01-2021</td>\n",
       "    </tr>\n",
       "    <tr>\n",
       "      <th>758882</th>\n",
       "      <td>234237</td>\n",
       "      <td>12443</td>\n",
       "      <td>IN</td>\n",
       "      <td>desktop</td>\n",
       "      <td>add_to_cart</td>\n",
       "      <td>919</td>\n",
       "      <td>31-01-2021</td>\n",
       "    </tr>\n",
       "    <tr>\n",
       "      <th>758883</th>\n",
       "      <td>234237</td>\n",
       "      <td>12443</td>\n",
       "      <td>IN</td>\n",
       "      <td>desktop</td>\n",
       "      <td>add_to_cart</td>\n",
       "      <td>978</td>\n",
       "      <td>31-01-2021</td>\n",
       "    </tr>\n",
       "  </tbody>\n",
       "</table>\n",
       "</div>"
      ],
      "text/plain": [
       "        user_id  ga_session_id country   device         type  item_id  \\\n",
       "758879   234237          12443      IN  desktop  add_to_cart     1130   \n",
       "758880   234237          12443      IN  desktop  add_to_cart      973   \n",
       "758881   234237          12443      IN  desktop  add_to_cart      915   \n",
       "758882   234237          12443      IN  desktop  add_to_cart      919   \n",
       "758883   234237          12443      IN  desktop  add_to_cart      978   \n",
       "\n",
       "              date  \n",
       "758879  31-01-2021  \n",
       "758880  31-01-2021  \n",
       "758881  31-01-2021  \n",
       "758882  31-01-2021  \n",
       "758883  31-01-2021  "
      ]
     },
     "execution_count": 8,
     "metadata": {},
     "output_type": "execute_result"
    }
   ],
   "source": [
    "read_pd.tail(5)"
   ]
  },
  {
   "cell_type": "markdown",
   "id": "a979a263-a776-4f94-8bd3-251c2c67a29b",
   "metadata": {},
   "source": [
    "#Check duplicates"
   ]
  },
  {
   "cell_type": "code",
   "execution_count": 9,
   "id": "4eb1c6d0-9fce-4383-b7ab-9766355a87ca",
   "metadata": {},
   "outputs": [
    {
     "name": "stdout",
     "output_type": "stream",
     "text": [
      "450107\n"
     ]
    }
   ],
   "source": [
    "read_pd['concat_unique_pairs'] = read_pd['user_id'].astype(str) + read_pd['ga_session_id'].astype(str) + read_pd['item_id'].astype(str)\n",
    "duplicates = read_pd['concat_unique_pairs'].duplicated()\n",
    "count = duplicates.sum()\n",
    "print(count)"
   ]
  },
  {
   "cell_type": "markdown",
   "id": "dfc0c9ba-28dd-4150-bbcc-a1d5e2560702",
   "metadata": {},
   "source": [
    "#removing duplicates"
   ]
  },
  {
   "cell_type": "code",
   "execution_count": 10,
   "id": "7ca3dbe5-4db2-4328-9610-9f925e5fa171",
   "metadata": {},
   "outputs": [
    {
     "name": "stdout",
     "output_type": "stream",
     "text": [
      "        user_id  ga_session_id country   device         type  item_id  \\\n",
      "0          2133          16909      US   mobile     purchase       94   \n",
      "1          2133          16909      US   mobile     purchase      425   \n",
      "2          5789          16908      SE  desktop     purchase        1   \n",
      "3          5789          16908      SE  desktop     purchase       62   \n",
      "4          5808           4267      US   mobile  add_to_cart      842   \n",
      "...         ...            ...     ...      ...          ...      ...   \n",
      "758879   234237          12443      IN  desktop  add_to_cart     1130   \n",
      "758880   234237          12443      IN  desktop  add_to_cart      973   \n",
      "758881   234237          12443      IN  desktop  add_to_cart      915   \n",
      "758882   234237          12443      IN  desktop  add_to_cart      919   \n",
      "758883   234237          12443      IN  desktop  add_to_cart      978   \n",
      "\n",
      "              date concat_unique_pairs  \n",
      "0       01-11-2020         21331690994  \n",
      "1       01-11-2020        213316909425  \n",
      "2       01-11-2020          5789169081  \n",
      "3       01-11-2020         57891690862  \n",
      "4       01-11-2020         58084267842  \n",
      "...            ...                 ...  \n",
      "758879  31-01-2021     234237124431130  \n",
      "758880  31-01-2021      23423712443973  \n",
      "758881  31-01-2021      23423712443915  \n",
      "758882  31-01-2021      23423712443919  \n",
      "758883  31-01-2021      23423712443978  \n",
      "\n",
      "[308777 rows x 8 columns]\n"
     ]
    }
   ],
   "source": [
    "read_pd = read_pd.drop_duplicates(subset='concat_unique_pairs', keep='first')\n",
    "print(read_pd)"
   ]
  },
  {
   "cell_type": "code",
   "execution_count": 11,
   "id": "d7e9a9da-18fd-4a3f-8892-f9bdac42705d",
   "metadata": {},
   "outputs": [
    {
     "data": {
      "text/plain": [
       "308777"
      ]
     },
     "execution_count": 11,
     "metadata": {},
     "output_type": "execute_result"
    }
   ],
   "source": [
    "len(read_pd)"
   ]
  },
  {
   "cell_type": "markdown",
   "id": "609df0d9-34de-48c3-a641-ce3c5a210655",
   "metadata": {},
   "source": [
    "#CHECK & DELETING MISSING VALUES"
   ]
  },
  {
   "cell_type": "code",
   "execution_count": 12,
   "id": "dca0345b-d57e-488c-b35b-2f71b96d66d9",
   "metadata": {},
   "outputs": [
    {
     "data": {
      "text/plain": [
       "user_id                   0\n",
       "ga_session_id             0\n",
       "country                2064\n",
       "device                    0\n",
       "type                      0\n",
       "item_id                   0\n",
       "date                      0\n",
       "concat_unique_pairs       0\n",
       "dtype: int64"
      ]
     },
     "execution_count": 12,
     "metadata": {},
     "output_type": "execute_result"
    }
   ],
   "source": [
    "read_pd.isnull().sum()"
   ]
  },
  {
   "cell_type": "code",
   "execution_count": 13,
   "id": "039006c2-b856-49af-8e66-a27157149a67",
   "metadata": {},
   "outputs": [],
   "source": [
    "read_pd.dropna(inplace = True)"
   ]
  },
  {
   "cell_type": "code",
   "execution_count": 14,
   "id": "fa6bd055-9393-4aa4-8b1b-6492978f2a15",
   "metadata": {},
   "outputs": [
    {
     "data": {
      "text/plain": [
       "user_id                0\n",
       "ga_session_id          0\n",
       "country                0\n",
       "device                 0\n",
       "type                   0\n",
       "item_id                0\n",
       "date                   0\n",
       "concat_unique_pairs    0\n",
       "dtype: int64"
      ]
     },
     "execution_count": 14,
     "metadata": {},
     "output_type": "execute_result"
    }
   ],
   "source": [
    "read_pd.isnull().sum()"
   ]
  },
  {
   "cell_type": "code",
   "execution_count": 15,
   "id": "5ca02545-be25-444a-aeea-db256fcf3f79",
   "metadata": {},
   "outputs": [
    {
     "data": {
      "text/html": [
       "<div>\n",
       "<style scoped>\n",
       "    .dataframe tbody tr th:only-of-type {\n",
       "        vertical-align: middle;\n",
       "    }\n",
       "\n",
       "    .dataframe tbody tr th {\n",
       "        vertical-align: top;\n",
       "    }\n",
       "\n",
       "    .dataframe thead th {\n",
       "        text-align: right;\n",
       "    }\n",
       "</style>\n",
       "<table border=\"1\" class=\"dataframe\">\n",
       "  <thead>\n",
       "    <tr style=\"text-align: right;\">\n",
       "      <th></th>\n",
       "      <th>user_id</th>\n",
       "      <th>ga_session_id</th>\n",
       "      <th>country</th>\n",
       "      <th>device</th>\n",
       "      <th>type</th>\n",
       "      <th>item_id</th>\n",
       "      <th>date</th>\n",
       "      <th>concat_unique_pairs</th>\n",
       "    </tr>\n",
       "  </thead>\n",
       "  <tbody>\n",
       "    <tr>\n",
       "      <th>0</th>\n",
       "      <td>2133</td>\n",
       "      <td>16909</td>\n",
       "      <td>US</td>\n",
       "      <td>mobile</td>\n",
       "      <td>purchase</td>\n",
       "      <td>94</td>\n",
       "      <td>01-11-2020</td>\n",
       "      <td>21331690994</td>\n",
       "    </tr>\n",
       "    <tr>\n",
       "      <th>1</th>\n",
       "      <td>2133</td>\n",
       "      <td>16909</td>\n",
       "      <td>US</td>\n",
       "      <td>mobile</td>\n",
       "      <td>purchase</td>\n",
       "      <td>425</td>\n",
       "      <td>01-11-2020</td>\n",
       "      <td>213316909425</td>\n",
       "    </tr>\n",
       "    <tr>\n",
       "      <th>2</th>\n",
       "      <td>5789</td>\n",
       "      <td>16908</td>\n",
       "      <td>SE</td>\n",
       "      <td>desktop</td>\n",
       "      <td>purchase</td>\n",
       "      <td>1</td>\n",
       "      <td>01-11-2020</td>\n",
       "      <td>5789169081</td>\n",
       "    </tr>\n",
       "    <tr>\n",
       "      <th>3</th>\n",
       "      <td>5789</td>\n",
       "      <td>16908</td>\n",
       "      <td>SE</td>\n",
       "      <td>desktop</td>\n",
       "      <td>purchase</td>\n",
       "      <td>62</td>\n",
       "      <td>01-11-2020</td>\n",
       "      <td>57891690862</td>\n",
       "    </tr>\n",
       "    <tr>\n",
       "      <th>4</th>\n",
       "      <td>5808</td>\n",
       "      <td>4267</td>\n",
       "      <td>US</td>\n",
       "      <td>mobile</td>\n",
       "      <td>add_to_cart</td>\n",
       "      <td>842</td>\n",
       "      <td>01-11-2020</td>\n",
       "      <td>58084267842</td>\n",
       "    </tr>\n",
       "    <tr>\n",
       "      <th>5</th>\n",
       "      <td>5808</td>\n",
       "      <td>4267</td>\n",
       "      <td>US</td>\n",
       "      <td>mobile</td>\n",
       "      <td>add_to_cart</td>\n",
       "      <td>951</td>\n",
       "      <td>01-11-2020</td>\n",
       "      <td>58084267951</td>\n",
       "    </tr>\n",
       "    <tr>\n",
       "      <th>6</th>\n",
       "      <td>5808</td>\n",
       "      <td>4267</td>\n",
       "      <td>US</td>\n",
       "      <td>mobile</td>\n",
       "      <td>add_to_cart</td>\n",
       "      <td>950</td>\n",
       "      <td>01-11-2020</td>\n",
       "      <td>58084267950</td>\n",
       "    </tr>\n",
       "    <tr>\n",
       "      <th>7</th>\n",
       "      <td>5808</td>\n",
       "      <td>4267</td>\n",
       "      <td>US</td>\n",
       "      <td>mobile</td>\n",
       "      <td>add_to_cart</td>\n",
       "      <td>1068</td>\n",
       "      <td>01-11-2020</td>\n",
       "      <td>580842671068</td>\n",
       "    </tr>\n",
       "    <tr>\n",
       "      <th>8</th>\n",
       "      <td>5808</td>\n",
       "      <td>4267</td>\n",
       "      <td>US</td>\n",
       "      <td>mobile</td>\n",
       "      <td>add_to_cart</td>\n",
       "      <td>862</td>\n",
       "      <td>01-11-2020</td>\n",
       "      <td>58084267862</td>\n",
       "    </tr>\n",
       "    <tr>\n",
       "      <th>9</th>\n",
       "      <td>5808</td>\n",
       "      <td>4267</td>\n",
       "      <td>US</td>\n",
       "      <td>mobile</td>\n",
       "      <td>add_to_cart</td>\n",
       "      <td>1119</td>\n",
       "      <td>01-11-2020</td>\n",
       "      <td>580842671119</td>\n",
       "    </tr>\n",
       "    <tr>\n",
       "      <th>10</th>\n",
       "      <td>5808</td>\n",
       "      <td>4267</td>\n",
       "      <td>US</td>\n",
       "      <td>mobile</td>\n",
       "      <td>add_to_cart</td>\n",
       "      <td>252</td>\n",
       "      <td>01-11-2020</td>\n",
       "      <td>58084267252</td>\n",
       "    </tr>\n",
       "    <tr>\n",
       "      <th>11</th>\n",
       "      <td>5808</td>\n",
       "      <td>4267</td>\n",
       "      <td>US</td>\n",
       "      <td>mobile</td>\n",
       "      <td>add_to_cart</td>\n",
       "      <td>1085</td>\n",
       "      <td>01-11-2020</td>\n",
       "      <td>580842671085</td>\n",
       "    </tr>\n",
       "    <tr>\n",
       "      <th>12</th>\n",
       "      <td>5808</td>\n",
       "      <td>4267</td>\n",
       "      <td>US</td>\n",
       "      <td>mobile</td>\n",
       "      <td>add_to_cart</td>\n",
       "      <td>1074</td>\n",
       "      <td>01-11-2020</td>\n",
       "      <td>580842671074</td>\n",
       "    </tr>\n",
       "    <tr>\n",
       "      <th>13</th>\n",
       "      <td>5808</td>\n",
       "      <td>4267</td>\n",
       "      <td>US</td>\n",
       "      <td>mobile</td>\n",
       "      <td>add_to_cart</td>\n",
       "      <td>1045</td>\n",
       "      <td>01-11-2020</td>\n",
       "      <td>580842671045</td>\n",
       "    </tr>\n",
       "    <tr>\n",
       "      <th>14</th>\n",
       "      <td>5808</td>\n",
       "      <td>4267</td>\n",
       "      <td>US</td>\n",
       "      <td>mobile</td>\n",
       "      <td>add_to_cart</td>\n",
       "      <td>953</td>\n",
       "      <td>01-11-2020</td>\n",
       "      <td>58084267953</td>\n",
       "    </tr>\n",
       "  </tbody>\n",
       "</table>\n",
       "</div>"
      ],
      "text/plain": [
       "    user_id  ga_session_id country   device         type  item_id        date  \\\n",
       "0      2133          16909      US   mobile     purchase       94  01-11-2020   \n",
       "1      2133          16909      US   mobile     purchase      425  01-11-2020   \n",
       "2      5789          16908      SE  desktop     purchase        1  01-11-2020   \n",
       "3      5789          16908      SE  desktop     purchase       62  01-11-2020   \n",
       "4      5808           4267      US   mobile  add_to_cart      842  01-11-2020   \n",
       "5      5808           4267      US   mobile  add_to_cart      951  01-11-2020   \n",
       "6      5808           4267      US   mobile  add_to_cart      950  01-11-2020   \n",
       "7      5808           4267      US   mobile  add_to_cart     1068  01-11-2020   \n",
       "8      5808           4267      US   mobile  add_to_cart      862  01-11-2020   \n",
       "9      5808           4267      US   mobile  add_to_cart     1119  01-11-2020   \n",
       "10     5808           4267      US   mobile  add_to_cart      252  01-11-2020   \n",
       "11     5808           4267      US   mobile  add_to_cart     1085  01-11-2020   \n",
       "12     5808           4267      US   mobile  add_to_cart     1074  01-11-2020   \n",
       "13     5808           4267      US   mobile  add_to_cart     1045  01-11-2020   \n",
       "14     5808           4267      US   mobile  add_to_cart      953  01-11-2020   \n",
       "\n",
       "   concat_unique_pairs  \n",
       "0          21331690994  \n",
       "1         213316909425  \n",
       "2           5789169081  \n",
       "3          57891690862  \n",
       "4          58084267842  \n",
       "5          58084267951  \n",
       "6          58084267950  \n",
       "7         580842671068  \n",
       "8          58084267862  \n",
       "9         580842671119  \n",
       "10         58084267252  \n",
       "11        580842671085  \n",
       "12        580842671074  \n",
       "13        580842671045  \n",
       "14         58084267953  "
      ]
     },
     "execution_count": 15,
     "metadata": {},
     "output_type": "execute_result"
    }
   ],
   "source": [
    "read_pd.head(15)"
   ]
  },
  {
   "cell_type": "markdown",
   "id": "3b32f3f7-a5cd-4df6-94e2-399826b221ba",
   "metadata": {},
   "source": [
    "**\"\"\"In the current dataset, the country codes provided do not allow for the identification of the corresponding country names.\n",
    "To address this issue, we will utilize an external file that contains a comprehensive list of country codes along with their\n",
    "respective country names.We will match the codes in our dataset with those in the reference file and replace them accordingly.\"\"\"**\n",
    "\n"
   ]
  },
  {
   "cell_type": "code",
   "execution_count": 16,
   "id": "2fec5be4-b201-459e-a419-ffa59782c88b",
   "metadata": {},
   "outputs": [
    {
     "name": "stdout",
     "output_type": "stream",
     "text": [
      "                     Country Country code International dialing\n",
      "0               Afghanistan            AF                   +93\n",
      "1                   Albania            AL                  +355\n",
      "2                   Algeria            DZ                  +213\n",
      "3             American Samoa           AS                +1-684\n",
      "4  Andorra, Principality of            AD                  +376\n",
      "5                     Angola           AO                  +244\n",
      "6                  Anguilla            AI                +1-264\n",
      "7                 Antarctica           AQ                  +672\n",
      "8        Antigua and Barbuda           AG                +1-268\n",
      "9                 Argentina            AR                   +54\n"
     ]
    }
   ],
   "source": [
    "country__codes = pd.read_csv('E:\\\\Country-codes.csv')\n",
    "print(country__codes.head(10))"
   ]
  },
  {
   "cell_type": "code",
   "execution_count": 35,
   "id": "03031966-f156-4c77-8082-18465205553b",
   "metadata": {},
   "outputs": [
    {
     "name": "stdout",
     "output_type": "stream",
     "text": [
      "   user_id  ga_session_id country   device         type  item_id        date  \\\n",
      "0     2133          16909      US   mobile     purchase       94  01-11-2020   \n",
      "1     2133          16909      US   mobile     purchase      425  01-11-2020   \n",
      "2     5789          16908      SE  desktop     purchase        1  01-11-2020   \n",
      "3     5789          16908      SE  desktop     purchase       62  01-11-2020   \n",
      "4     5808           4267      US   mobile  add_to_cart      842  01-11-2020   \n",
      "\n",
      "  concat_unique_pairs         Country Country code International dialing  \n",
      "0         21331690994  United States            US                    +1  \n",
      "1        213316909425  United States            US                    +1  \n",
      "2          5789169081         Sweden            SE                   +46  \n",
      "3         57891690862         Sweden            SE                   +46  \n",
      "4         58084267842  United States            US                    +1  \n"
     ]
    }
   ],
   "source": [
    "Final_output = pd.merge(read_pd, country__codes, left_on='country', right_on='Country code', how='left')\n",
    "Google_sales = Final_output \n",
    "print(Google_sales.head(5))\n"
   ]
  },
  {
   "cell_type": "code",
   "execution_count": 36,
   "id": "ea384d81-a85a-4cfa-9179-9b4d376b7654",
   "metadata": {},
   "outputs": [],
   "source": [
    "Google_sales.isnull().sum()\n",
    "Google_sales.dropna(inplace = True)"
   ]
  },
  {
   "cell_type": "code",
   "execution_count": 37,
   "id": "d956c231-c4a9-4240-b4f9-4e5e5f6904f2",
   "metadata": {},
   "outputs": [],
   "source": [
    "Google_sales_Data = Google_sales[['user_id','ga_session_id', 'device', 'type', 'item_id', 'date', 'Country','concat_unique_pairs',]]"
   ]
  },
  {
   "cell_type": "code",
   "execution_count": 56,
   "id": "c44c0018-4068-4caa-af76-13e64e3489f6",
   "metadata": {},
   "outputs": [
    {
     "data": {
      "text/plain": [
       "(306690, 8)"
      ]
     },
     "execution_count": 56,
     "metadata": {},
     "output_type": "execute_result"
    }
   ],
   "source": [
    "Google_sales_Data.shape"
   ]
  },
  {
   "cell_type": "markdown",
   "id": "fd5c8a74-5caf-475e-b59e-21c62274a9e2",
   "metadata": {},
   "source": [
    "##EXPLORE & ANALYZE OF THE PRE-PROCESSED DATA"
   ]
  },
  {
   "cell_type": "code",
   "execution_count": 74,
   "id": "c9b89331-32ad-4cc7-b7ec-babe56693863",
   "metadata": {},
   "outputs": [],
   "source": [
    "lists = Google_sales_Data[['device','type','Country']]"
   ]
  },
  {
   "cell_type": "code",
   "execution_count": 84,
   "id": "cd8b928c-d8ab-42da-ad7e-837942e50d1b",
   "metadata": {},
   "outputs": [
    {
     "name": "stdout",
     "output_type": "stream",
     "text": [
      "['mobile' 'desktop' 'tablet']\n",
      "['purchase' 'add_to_cart' 'begin_checkout']\n",
      "Countries :-  107\n"
     ]
    }
   ],
   "source": [
    "for i in lists.columns:\n",
    "    if i == 'Country':\n",
    "        print(\"Countries :- \" ,lists[i].nunique())\n",
    "    else:\n",
    "        print(lists[i].unique())"
   ]
  },
  {
   "cell_type": "markdown",
   "id": "11cd27e8-41ab-411e-b074-7fbc4468180c",
   "metadata": {},
   "source": [
    "**VISUALIZATION**"
   ]
  },
  {
   "cell_type": "code",
   "execution_count": 106,
   "id": "ed7253dc-f5cb-4d07-9e94-2b47a549c81a",
   "metadata": {},
   "outputs": [
    {
     "data": {
      "application/vnd.plotly.v1+json": {
       "config": {
        "plotlyServerURL": "https://plot.ly"
       },
       "data": [
        {
         "alignmentgroup": "True",
         "hovertemplate": "device=desktop<br>Country=%{x}<br>Number of Actions=%{text}<extra></extra>",
         "legendgroup": "desktop",
         "marker": {
          "color": "#636efa",
          "pattern": {
           "shape": ""
          }
         },
         "name": "desktop",
         "offsetgroup": "desktop",
         "orientation": "v",
         "showlegend": true,
         "text": [
          80069,
          15888,
          13814
         ],
         "textposition": "auto",
         "type": "bar",
         "x": [
          "United States ",
          "India ",
          "Canada "
         ],
         "xaxis": "x",
         "y": [
          80069,
          15888,
          13814
         ],
         "yaxis": "y"
        },
        {
         "alignmentgroup": "True",
         "hovertemplate": "device=mobile<br>Country=%{x}<br>Number of Actions=%{text}<extra></extra>",
         "legendgroup": "mobile",
         "marker": {
          "color": "#EF553B",
          "pattern": {
           "shape": ""
          }
         },
         "name": "mobile",
         "offsetgroup": "mobile",
         "orientation": "v",
         "showlegend": true,
         "text": [
          53967,
          11476,
          10124
         ],
         "textposition": "auto",
         "type": "bar",
         "x": [
          "United States ",
          "India ",
          "Canada "
         ],
         "xaxis": "x",
         "y": [
          53967,
          11476,
          10124
         ],
         "yaxis": "y"
        },
        {
         "alignmentgroup": "True",
         "hovertemplate": "device=tablet<br>Country=%{x}<br>Number of Actions=%{text}<extra></extra>",
         "legendgroup": "tablet",
         "marker": {
          "color": "#00cc96",
          "pattern": {
           "shape": ""
          }
         },
         "name": "tablet",
         "offsetgroup": "tablet",
         "orientation": "v",
         "showlegend": true,
         "text": [
          3022,
          515,
          483
         ],
         "textposition": "auto",
         "type": "bar",
         "x": [
          "United States ",
          "Canada ",
          "India "
         ],
         "xaxis": "x",
         "y": [
          3022,
          515,
          483
         ],
         "yaxis": "y"
        }
       ],
       "layout": {
        "autosize": true,
        "barmode": "group",
        "dragmode": "zoom",
        "legend": {
         "title": {
          "text": "device"
         },
         "tracegroupgap": 0
        },
        "template": {
         "data": {
          "bar": [
           {
            "error_x": {
             "color": "#2a3f5f"
            },
            "error_y": {
             "color": "#2a3f5f"
            },
            "marker": {
             "line": {
              "color": "#E5ECF6",
              "width": 0.5
             },
             "pattern": {
              "fillmode": "overlay",
              "size": 10,
              "solidity": 0.2
             }
            },
            "type": "bar"
           }
          ],
          "barpolar": [
           {
            "marker": {
             "line": {
              "color": "#E5ECF6",
              "width": 0.5
             },
             "pattern": {
              "fillmode": "overlay",
              "size": 10,
              "solidity": 0.2
             }
            },
            "type": "barpolar"
           }
          ],
          "carpet": [
           {
            "aaxis": {
             "endlinecolor": "#2a3f5f",
             "gridcolor": "white",
             "linecolor": "white",
             "minorgridcolor": "white",
             "startlinecolor": "#2a3f5f"
            },
            "baxis": {
             "endlinecolor": "#2a3f5f",
             "gridcolor": "white",
             "linecolor": "white",
             "minorgridcolor": "white",
             "startlinecolor": "#2a3f5f"
            },
            "type": "carpet"
           }
          ],
          "choropleth": [
           {
            "colorbar": {
             "outlinewidth": 0,
             "ticks": ""
            },
            "type": "choropleth"
           }
          ],
          "contour": [
           {
            "colorbar": {
             "outlinewidth": 0,
             "ticks": ""
            },
            "colorscale": [
             [
              0,
              "#0d0887"
             ],
             [
              0.1111111111111111,
              "#46039f"
             ],
             [
              0.2222222222222222,
              "#7201a8"
             ],
             [
              0.3333333333333333,
              "#9c179e"
             ],
             [
              0.4444444444444444,
              "#bd3786"
             ],
             [
              0.5555555555555556,
              "#d8576b"
             ],
             [
              0.6666666666666666,
              "#ed7953"
             ],
             [
              0.7777777777777778,
              "#fb9f3a"
             ],
             [
              0.8888888888888888,
              "#fdca26"
             ],
             [
              1,
              "#f0f921"
             ]
            ],
            "type": "contour"
           }
          ],
          "contourcarpet": [
           {
            "colorbar": {
             "outlinewidth": 0,
             "ticks": ""
            },
            "type": "contourcarpet"
           }
          ],
          "heatmap": [
           {
            "colorbar": {
             "outlinewidth": 0,
             "ticks": ""
            },
            "colorscale": [
             [
              0,
              "#0d0887"
             ],
             [
              0.1111111111111111,
              "#46039f"
             ],
             [
              0.2222222222222222,
              "#7201a8"
             ],
             [
              0.3333333333333333,
              "#9c179e"
             ],
             [
              0.4444444444444444,
              "#bd3786"
             ],
             [
              0.5555555555555556,
              "#d8576b"
             ],
             [
              0.6666666666666666,
              "#ed7953"
             ],
             [
              0.7777777777777778,
              "#fb9f3a"
             ],
             [
              0.8888888888888888,
              "#fdca26"
             ],
             [
              1,
              "#f0f921"
             ]
            ],
            "type": "heatmap"
           }
          ],
          "heatmapgl": [
           {
            "colorbar": {
             "outlinewidth": 0,
             "ticks": ""
            },
            "colorscale": [
             [
              0,
              "#0d0887"
             ],
             [
              0.1111111111111111,
              "#46039f"
             ],
             [
              0.2222222222222222,
              "#7201a8"
             ],
             [
              0.3333333333333333,
              "#9c179e"
             ],
             [
              0.4444444444444444,
              "#bd3786"
             ],
             [
              0.5555555555555556,
              "#d8576b"
             ],
             [
              0.6666666666666666,
              "#ed7953"
             ],
             [
              0.7777777777777778,
              "#fb9f3a"
             ],
             [
              0.8888888888888888,
              "#fdca26"
             ],
             [
              1,
              "#f0f921"
             ]
            ],
            "type": "heatmapgl"
           }
          ],
          "histogram": [
           {
            "marker": {
             "pattern": {
              "fillmode": "overlay",
              "size": 10,
              "solidity": 0.2
             }
            },
            "type": "histogram"
           }
          ],
          "histogram2d": [
           {
            "colorbar": {
             "outlinewidth": 0,
             "ticks": ""
            },
            "colorscale": [
             [
              0,
              "#0d0887"
             ],
             [
              0.1111111111111111,
              "#46039f"
             ],
             [
              0.2222222222222222,
              "#7201a8"
             ],
             [
              0.3333333333333333,
              "#9c179e"
             ],
             [
              0.4444444444444444,
              "#bd3786"
             ],
             [
              0.5555555555555556,
              "#d8576b"
             ],
             [
              0.6666666666666666,
              "#ed7953"
             ],
             [
              0.7777777777777778,
              "#fb9f3a"
             ],
             [
              0.8888888888888888,
              "#fdca26"
             ],
             [
              1,
              "#f0f921"
             ]
            ],
            "type": "histogram2d"
           }
          ],
          "histogram2dcontour": [
           {
            "colorbar": {
             "outlinewidth": 0,
             "ticks": ""
            },
            "colorscale": [
             [
              0,
              "#0d0887"
             ],
             [
              0.1111111111111111,
              "#46039f"
             ],
             [
              0.2222222222222222,
              "#7201a8"
             ],
             [
              0.3333333333333333,
              "#9c179e"
             ],
             [
              0.4444444444444444,
              "#bd3786"
             ],
             [
              0.5555555555555556,
              "#d8576b"
             ],
             [
              0.6666666666666666,
              "#ed7953"
             ],
             [
              0.7777777777777778,
              "#fb9f3a"
             ],
             [
              0.8888888888888888,
              "#fdca26"
             ],
             [
              1,
              "#f0f921"
             ]
            ],
            "type": "histogram2dcontour"
           }
          ],
          "mesh3d": [
           {
            "colorbar": {
             "outlinewidth": 0,
             "ticks": ""
            },
            "type": "mesh3d"
           }
          ],
          "parcoords": [
           {
            "line": {
             "colorbar": {
              "outlinewidth": 0,
              "ticks": ""
             }
            },
            "type": "parcoords"
           }
          ],
          "pie": [
           {
            "automargin": true,
            "type": "pie"
           }
          ],
          "scatter": [
           {
            "fillpattern": {
             "fillmode": "overlay",
             "size": 10,
             "solidity": 0.2
            },
            "type": "scatter"
           }
          ],
          "scatter3d": [
           {
            "line": {
             "colorbar": {
              "outlinewidth": 0,
              "ticks": ""
             }
            },
            "marker": {
             "colorbar": {
              "outlinewidth": 0,
              "ticks": ""
             }
            },
            "type": "scatter3d"
           }
          ],
          "scattercarpet": [
           {
            "marker": {
             "colorbar": {
              "outlinewidth": 0,
              "ticks": ""
             }
            },
            "type": "scattercarpet"
           }
          ],
          "scattergeo": [
           {
            "marker": {
             "colorbar": {
              "outlinewidth": 0,
              "ticks": ""
             }
            },
            "type": "scattergeo"
           }
          ],
          "scattergl": [
           {
            "marker": {
             "colorbar": {
              "outlinewidth": 0,
              "ticks": ""
             }
            },
            "type": "scattergl"
           }
          ],
          "scattermapbox": [
           {
            "marker": {
             "colorbar": {
              "outlinewidth": 0,
              "ticks": ""
             }
            },
            "type": "scattermapbox"
           }
          ],
          "scatterpolar": [
           {
            "marker": {
             "colorbar": {
              "outlinewidth": 0,
              "ticks": ""
             }
            },
            "type": "scatterpolar"
           }
          ],
          "scatterpolargl": [
           {
            "marker": {
             "colorbar": {
              "outlinewidth": 0,
              "ticks": ""
             }
            },
            "type": "scatterpolargl"
           }
          ],
          "scatterternary": [
           {
            "marker": {
             "colorbar": {
              "outlinewidth": 0,
              "ticks": ""
             }
            },
            "type": "scatterternary"
           }
          ],
          "surface": [
           {
            "colorbar": {
             "outlinewidth": 0,
             "ticks": ""
            },
            "colorscale": [
             [
              0,
              "#0d0887"
             ],
             [
              0.1111111111111111,
              "#46039f"
             ],
             [
              0.2222222222222222,
              "#7201a8"
             ],
             [
              0.3333333333333333,
              "#9c179e"
             ],
             [
              0.4444444444444444,
              "#bd3786"
             ],
             [
              0.5555555555555556,
              "#d8576b"
             ],
             [
              0.6666666666666666,
              "#ed7953"
             ],
             [
              0.7777777777777778,
              "#fb9f3a"
             ],
             [
              0.8888888888888888,
              "#fdca26"
             ],
             [
              1,
              "#f0f921"
             ]
            ],
            "type": "surface"
           }
          ],
          "table": [
           {
            "cells": {
             "fill": {
              "color": "#EBF0F8"
             },
             "line": {
              "color": "white"
             }
            },
            "header": {
             "fill": {
              "color": "#C8D4E3"
             },
             "line": {
              "color": "white"
             }
            },
            "type": "table"
           }
          ]
         },
         "layout": {
          "annotationdefaults": {
           "arrowcolor": "#2a3f5f",
           "arrowhead": 0,
           "arrowwidth": 1
          },
          "autotypenumbers": "strict",
          "coloraxis": {
           "colorbar": {
            "outlinewidth": 0,
            "ticks": ""
           }
          },
          "colorscale": {
           "diverging": [
            [
             0,
             "#8e0152"
            ],
            [
             0.1,
             "#c51b7d"
            ],
            [
             0.2,
             "#de77ae"
            ],
            [
             0.3,
             "#f1b6da"
            ],
            [
             0.4,
             "#fde0ef"
            ],
            [
             0.5,
             "#f7f7f7"
            ],
            [
             0.6,
             "#e6f5d0"
            ],
            [
             0.7,
             "#b8e186"
            ],
            [
             0.8,
             "#7fbc41"
            ],
            [
             0.9,
             "#4d9221"
            ],
            [
             1,
             "#276419"
            ]
           ],
           "sequential": [
            [
             0,
             "#0d0887"
            ],
            [
             0.1111111111111111,
             "#46039f"
            ],
            [
             0.2222222222222222,
             "#7201a8"
            ],
            [
             0.3333333333333333,
             "#9c179e"
            ],
            [
             0.4444444444444444,
             "#bd3786"
            ],
            [
             0.5555555555555556,
             "#d8576b"
            ],
            [
             0.6666666666666666,
             "#ed7953"
            ],
            [
             0.7777777777777778,
             "#fb9f3a"
            ],
            [
             0.8888888888888888,
             "#fdca26"
            ],
            [
             1,
             "#f0f921"
            ]
           ],
           "sequentialminus": [
            [
             0,
             "#0d0887"
            ],
            [
             0.1111111111111111,
             "#46039f"
            ],
            [
             0.2222222222222222,
             "#7201a8"
            ],
            [
             0.3333333333333333,
             "#9c179e"
            ],
            [
             0.4444444444444444,
             "#bd3786"
            ],
            [
             0.5555555555555556,
             "#d8576b"
            ],
            [
             0.6666666666666666,
             "#ed7953"
            ],
            [
             0.7777777777777778,
             "#fb9f3a"
            ],
            [
             0.8888888888888888,
             "#fdca26"
            ],
            [
             1,
             "#f0f921"
            ]
           ]
          },
          "colorway": [
           "#636efa",
           "#EF553B",
           "#00cc96",
           "#ab63fa",
           "#FFA15A",
           "#19d3f3",
           "#FF6692",
           "#B6E880",
           "#FF97FF",
           "#FECB52"
          ],
          "font": {
           "color": "#2a3f5f"
          },
          "geo": {
           "bgcolor": "white",
           "lakecolor": "white",
           "landcolor": "#E5ECF6",
           "showlakes": true,
           "showland": true,
           "subunitcolor": "white"
          },
          "hoverlabel": {
           "align": "left"
          },
          "hovermode": "closest",
          "mapbox": {
           "style": "light"
          },
          "paper_bgcolor": "white",
          "plot_bgcolor": "#E5ECF6",
          "polar": {
           "angularaxis": {
            "gridcolor": "white",
            "linecolor": "white",
            "ticks": ""
           },
           "bgcolor": "#E5ECF6",
           "radialaxis": {
            "gridcolor": "white",
            "linecolor": "white",
            "ticks": ""
           }
          },
          "scene": {
           "xaxis": {
            "backgroundcolor": "#E5ECF6",
            "gridcolor": "white",
            "gridwidth": 2,
            "linecolor": "white",
            "showbackground": true,
            "ticks": "",
            "zerolinecolor": "white"
           },
           "yaxis": {
            "backgroundcolor": "#E5ECF6",
            "gridcolor": "white",
            "gridwidth": 2,
            "linecolor": "white",
            "showbackground": true,
            "ticks": "",
            "zerolinecolor": "white"
           },
           "zaxis": {
            "backgroundcolor": "#E5ECF6",
            "gridcolor": "white",
            "gridwidth": 2,
            "linecolor": "white",
            "showbackground": true,
            "ticks": "",
            "zerolinecolor": "white"
           }
          },
          "shapedefaults": {
           "line": {
            "color": "#2a3f5f"
           }
          },
          "ternary": {
           "aaxis": {
            "gridcolor": "white",
            "linecolor": "white",
            "ticks": ""
           },
           "baxis": {
            "gridcolor": "white",
            "linecolor": "white",
            "ticks": ""
           },
           "bgcolor": "#E5ECF6",
           "caxis": {
            "gridcolor": "white",
            "linecolor": "white",
            "ticks": ""
           }
          },
          "title": {
           "x": 0.05
          },
          "xaxis": {
           "automargin": true,
           "gridcolor": "white",
           "linecolor": "white",
           "ticks": "",
           "title": {
            "standoff": 15
           },
           "zerolinecolor": "white",
           "zerolinewidth": 2
          },
          "yaxis": {
           "automargin": true,
           "gridcolor": "white",
           "linecolor": "white",
           "ticks": "",
           "title": {
            "standoff": 15
           },
           "zerolinecolor": "white",
           "zerolinewidth": 2
          }
         }
        },
        "title": {
         "text": "Actions by Device Type in Top 3 Countries"
        },
        "xaxis": {
         "anchor": "y",
         "autorange": true,
         "domain": [
          0,
          1
         ],
         "range": [
          -0.5,
          2.5
         ],
         "title": {
          "text": "Country"
         },
         "type": "category"
        },
        "yaxis": {
         "anchor": "x",
         "autorange": true,
         "domain": [
          0,
          1
         ],
         "range": [
          0,
          84283.15789473684
         ],
         "title": {
          "text": "Number of Actions"
         },
         "type": "linear"
        }
       }
      },
      "image/png": "[encoded data removed]",
      "text/html": [
       "<div>                            <div id=\"9ca7cde4-dc8c-44a0-9893-fd031a315c51\" class=\"plotly-graph-div\" style=\"height:525px; width:100%;\"></div>            <script type=\"text/javascript\">                require([\"plotly\"], function(Plotly) {                    window.PLOTLYENV=window.PLOTLYENV || {};                                    if (document.getElementById(\"9ca7cde4-dc8c-44a0-9893-fd031a315c51\")) {                    Plotly.newPlot(                        \"9ca7cde4-dc8c-44a0-9893-fd031a315c51\",                        [{\"alignmentgroup\":\"True\",\"hovertemplate\":\"device=desktop\\u003cbr\\u003eCountry=%{x}\\u003cbr\\u003eNumber of Actions=%{text}\\u003cextra\\u003e\\u003c\\u002fextra\\u003e\",\"legendgroup\":\"desktop\",\"marker\":{\"color\":\"#636efa\",\"pattern\":{\"shape\":\"\"}},\"name\":\"desktop\",\"offsetgroup\":\"desktop\",\"orientation\":\"v\",\"showlegend\":true,\"text\":[80069.0,15888.0,13814.0],\"textposition\":\"auto\",\"x\":[\"United States \",\"India \",\"Canada \"],\"xaxis\":\"x\",\"y\":[80069,15888,13814],\"yaxis\":\"y\",\"type\":\"bar\"},{\"alignmentgroup\":\"True\",\"hovertemplate\":\"device=mobile\\u003cbr\\u003eCountry=%{x}\\u003cbr\\u003eNumber of Actions=%{text}\\u003cextra\\u003e\\u003c\\u002fextra\\u003e\",\"legendgroup\":\"mobile\",\"marker\":{\"color\":\"#EF553B\",\"pattern\":{\"shape\":\"\"}},\"name\":\"mobile\",\"offsetgroup\":\"mobile\",\"orientation\":\"v\",\"showlegend\":true,\"text\":[53967.0,11476.0,10124.0],\"textposition\":\"auto\",\"x\":[\"United States \",\"India \",\"Canada \"],\"xaxis\":\"x\",\"y\":[53967,11476,10124],\"yaxis\":\"y\",\"type\":\"bar\"},{\"alignmentgroup\":\"True\",\"hovertemplate\":\"device=tablet\\u003cbr\\u003eCountry=%{x}\\u003cbr\\u003eNumber of Actions=%{text}\\u003cextra\\u003e\\u003c\\u002fextra\\u003e\",\"legendgroup\":\"tablet\",\"marker\":{\"color\":\"#00cc96\",\"pattern\":{\"shape\":\"\"}},\"name\":\"tablet\",\"offsetgroup\":\"tablet\",\"orientation\":\"v\",\"showlegend\":true,\"text\":[3022.0,515.0,483.0],\"textposition\":\"auto\",\"x\":[\"United States \",\"Canada \",\"India \"],\"xaxis\":\"x\",\"y\":[3022,515,483],\"yaxis\":\"y\",\"type\":\"bar\"}],                        {\"template\":{\"data\":{\"histogram2dcontour\":[{\"type\":\"histogram2dcontour\",\"colorbar\":{\"outlinewidth\":0,\"ticks\":\"\"},\"colorscale\":[[0.0,\"#0d0887\"],[0.1111111111111111,\"#46039f\"],[0.2222222222222222,\"#7201a8\"],[0.3333333333333333,\"#9c179e\"],[0.4444444444444444,\"#bd3786\"],[0.5555555555555556,\"#d8576b\"],[0.6666666666666666,\"#ed7953\"],[0.7777777777777778,\"#fb9f3a\"],[0.8888888888888888,\"#fdca26\"],[1.0,\"#f0f921\"]]}],\"choropleth\":[{\"type\":\"choropleth\",\"colorbar\":{\"outlinewidth\":0,\"ticks\":\"\"}}],\"histogram2d\":[{\"type\":\"histogram2d\",\"colorbar\":{\"outlinewidth\":0,\"ticks\":\"\"},\"colorscale\":[[0.0,\"#0d0887\"],[0.1111111111111111,\"#46039f\"],[0.2222222222222222,\"#7201a8\"],[0.3333333333333333,\"#9c179e\"],[0.4444444444444444,\"#bd3786\"],[0.5555555555555556,\"#d8576b\"],[0.6666666666666666,\"#ed7953\"],[0.7777777777777778,\"#fb9f3a\"],[0.8888888888888888,\"#fdca26\"],[1.0,\"#f0f921\"]]}],\"heatmap\":[{\"type\":\"heatmap\",\"colorbar\":{\"outlinewidth\":0,\"ticks\":\"\"},\"colorscale\":[[0.0,\"#0d0887\"],[0.1111111111111111,\"#46039f\"],[0.2222222222222222,\"#7201a8\"],[0.3333333333333333,\"#9c179e\"],[0.4444444444444444,\"#bd3786\"],[0.5555555555555556,\"#d8576b\"],[0.6666666666666666,\"#ed7953\"],[0.7777777777777778,\"#fb9f3a\"],[0.8888888888888888,\"#fdca26\"],[1.0,\"#f0f921\"]]}],\"heatmapgl\":[{\"type\":\"heatmapgl\",\"colorbar\":{\"outlinewidth\":0,\"ticks\":\"\"},\"colorscale\":[[0.0,\"#0d0887\"],[0.1111111111111111,\"#46039f\"],[0.2222222222222222,\"#7201a8\"],[0.3333333333333333,\"#9c179e\"],[0.4444444444444444,\"#bd3786\"],[0.5555555555555556,\"#d8576b\"],[0.6666666666666666,\"#ed7953\"],[0.7777777777777778,\"#fb9f3a\"],[0.8888888888888888,\"#fdca26\"],[1.0,\"#f0f921\"]]}],\"contourcarpet\":[{\"type\":\"contourcarpet\",\"colorbar\":{\"outlinewidth\":0,\"ticks\":\"\"}}],\"contour\":[{\"type\":\"contour\",\"colorbar\":{\"outlinewidth\":0,\"ticks\":\"\"},\"colorscale\":[[0.0,\"#0d0887\"],[0.1111111111111111,\"#46039f\"],[0.2222222222222222,\"#7201a8\"],[0.3333333333333333,\"#9c179e\"],[0.4444444444444444,\"#bd3786\"],[0.5555555555555556,\"#d8576b\"],[0.6666666666666666,\"#ed7953\"],[0.7777777777777778,\"#fb9f3a\"],[0.8888888888888888,\"#fdca26\"],[1.0,\"#f0f921\"]]}],\"surface\":[{\"type\":\"surface\",\"colorbar\":{\"outlinewidth\":0,\"ticks\":\"\"},\"colorscale\":[[0.0,\"#0d0887\"],[0.1111111111111111,\"#46039f\"],[0.2222222222222222,\"#7201a8\"],[0.3333333333333333,\"#9c179e\"],[0.4444444444444444,\"#bd3786\"],[0.5555555555555556,\"#d8576b\"],[0.6666666666666666,\"#ed7953\"],[0.7777777777777778,\"#fb9f3a\"],[0.8888888888888888,\"#fdca26\"],[1.0,\"#f0f921\"]]}],\"mesh3d\":[{\"type\":\"mesh3d\",\"colorbar\":{\"outlinewidth\":0,\"ticks\":\"\"}}],\"scatter\":[{\"fillpattern\":{\"fillmode\":\"overlay\",\"size\":10,\"solidity\":0.2},\"type\":\"scatter\"}],\"parcoords\":[{\"type\":\"parcoords\",\"line\":{\"colorbar\":{\"outlinewidth\":0,\"ticks\":\"\"}}}],\"scatterpolargl\":[{\"type\":\"scatterpolargl\",\"marker\":{\"colorbar\":{\"outlinewidth\":0,\"ticks\":\"\"}}}],\"bar\":[{\"error_x\":{\"color\":\"#2a3f5f\"},\"error_y\":{\"color\":\"#2a3f5f\"},\"marker\":{\"line\":{\"color\":\"#E5ECF6\",\"width\":0.5},\"pattern\":{\"fillmode\":\"overlay\",\"size\":10,\"solidity\":0.2}},\"type\":\"bar\"}],\"scattergeo\":[{\"type\":\"scattergeo\",\"marker\":{\"colorbar\":{\"outlinewidth\":0,\"ticks\":\"\"}}}],\"scatterpolar\":[{\"type\":\"scatterpolar\",\"marker\":{\"colorbar\":{\"outlinewidth\":0,\"ticks\":\"\"}}}],\"histogram\":[{\"marker\":{\"pattern\":{\"fillmode\":\"overlay\",\"size\":10,\"solidity\":0.2}},\"type\":\"histogram\"}],\"scattergl\":[{\"type\":\"scattergl\",\"marker\":{\"colorbar\":{\"outlinewidth\":0,\"ticks\":\"\"}}}],\"scatter3d\":[{\"type\":\"scatter3d\",\"line\":{\"colorbar\":{\"outlinewidth\":0,\"ticks\":\"\"}},\"marker\":{\"colorbar\":{\"outlinewidth\":0,\"ticks\":\"\"}}}],\"scattermapbox\":[{\"type\":\"scattermapbox\",\"marker\":{\"colorbar\":{\"outlinewidth\":0,\"ticks\":\"\"}}}],\"scatterternary\":[{\"type\":\"scatterternary\",\"marker\":{\"colorbar\":{\"outlinewidth\":0,\"ticks\":\"\"}}}],\"scattercarpet\":[{\"type\":\"scattercarpet\",\"marker\":{\"colorbar\":{\"outlinewidth\":0,\"ticks\":\"\"}}}],\"carpet\":[{\"aaxis\":{\"endlinecolor\":\"#2a3f5f\",\"gridcolor\":\"white\",\"linecolor\":\"white\",\"minorgridcolor\":\"white\",\"startlinecolor\":\"#2a3f5f\"},\"baxis\":{\"endlinecolor\":\"#2a3f5f\",\"gridcolor\":\"white\",\"linecolor\":\"white\",\"minorgridcolor\":\"white\",\"startlinecolor\":\"#2a3f5f\"},\"type\":\"carpet\"}],\"table\":[{\"cells\":{\"fill\":{\"color\":\"#EBF0F8\"},\"line\":{\"color\":\"white\"}},\"header\":{\"fill\":{\"color\":\"#C8D4E3\"},\"line\":{\"color\":\"white\"}},\"type\":\"table\"}],\"barpolar\":[{\"marker\":{\"line\":{\"color\":\"#E5ECF6\",\"width\":0.5},\"pattern\":{\"fillmode\":\"overlay\",\"size\":10,\"solidity\":0.2}},\"type\":\"barpolar\"}],\"pie\":[{\"automargin\":true,\"type\":\"pie\"}]},\"layout\":{\"autotypenumbers\":\"strict\",\"colorway\":[\"#636efa\",\"#EF553B\",\"#00cc96\",\"#ab63fa\",\"#FFA15A\",\"#19d3f3\",\"#FF6692\",\"#B6E880\",\"#FF97FF\",\"#FECB52\"],\"font\":{\"color\":\"#2a3f5f\"},\"hovermode\":\"closest\",\"hoverlabel\":{\"align\":\"left\"},\"paper_bgcolor\":\"white\",\"plot_bgcolor\":\"#E5ECF6\",\"polar\":{\"bgcolor\":\"#E5ECF6\",\"angularaxis\":{\"gridcolor\":\"white\",\"linecolor\":\"white\",\"ticks\":\"\"},\"radialaxis\":{\"gridcolor\":\"white\",\"linecolor\":\"white\",\"ticks\":\"\"}},\"ternary\":{\"bgcolor\":\"#E5ECF6\",\"aaxis\":{\"gridcolor\":\"white\",\"linecolor\":\"white\",\"ticks\":\"\"},\"baxis\":{\"gridcolor\":\"white\",\"linecolor\":\"white\",\"ticks\":\"\"},\"caxis\":{\"gridcolor\":\"white\",\"linecolor\":\"white\",\"ticks\":\"\"}},\"coloraxis\":{\"colorbar\":{\"outlinewidth\":0,\"ticks\":\"\"}},\"colorscale\":{\"sequential\":[[0.0,\"#0d0887\"],[0.1111111111111111,\"#46039f\"],[0.2222222222222222,\"#7201a8\"],[0.3333333333333333,\"#9c179e\"],[0.4444444444444444,\"#bd3786\"],[0.5555555555555556,\"#d8576b\"],[0.6666666666666666,\"#ed7953\"],[0.7777777777777778,\"#fb9f3a\"],[0.8888888888888888,\"#fdca26\"],[1.0,\"#f0f921\"]],\"sequentialminus\":[[0.0,\"#0d0887\"],[0.1111111111111111,\"#46039f\"],[0.2222222222222222,\"#7201a8\"],[0.3333333333333333,\"#9c179e\"],[0.4444444444444444,\"#bd3786\"],[0.5555555555555556,\"#d8576b\"],[0.6666666666666666,\"#ed7953\"],[0.7777777777777778,\"#fb9f3a\"],[0.8888888888888888,\"#fdca26\"],[1.0,\"#f0f921\"]],\"diverging\":[[0,\"#8e0152\"],[0.1,\"#c51b7d\"],[0.2,\"#de77ae\"],[0.3,\"#f1b6da\"],[0.4,\"#fde0ef\"],[0.5,\"#f7f7f7\"],[0.6,\"#e6f5d0\"],[0.7,\"#b8e186\"],[0.8,\"#7fbc41\"],[0.9,\"#4d9221\"],[1,\"#276419\"]]},\"xaxis\":{\"gridcolor\":\"white\",\"linecolor\":\"white\",\"ticks\":\"\",\"title\":{\"standoff\":15},\"zerolinecolor\":\"white\",\"automargin\":true,\"zerolinewidth\":2},\"yaxis\":{\"gridcolor\":\"white\",\"linecolor\":\"white\",\"ticks\":\"\",\"title\":{\"standoff\":15},\"zerolinecolor\":\"white\",\"automargin\":true,\"zerolinewidth\":2},\"scene\":{\"xaxis\":{\"backgroundcolor\":\"#E5ECF6\",\"gridcolor\":\"white\",\"linecolor\":\"white\",\"showbackground\":true,\"ticks\":\"\",\"zerolinecolor\":\"white\",\"gridwidth\":2},\"yaxis\":{\"backgroundcolor\":\"#E5ECF6\",\"gridcolor\":\"white\",\"linecolor\":\"white\",\"showbackground\":true,\"ticks\":\"\",\"zerolinecolor\":\"white\",\"gridwidth\":2},\"zaxis\":{\"backgroundcolor\":\"#E5ECF6\",\"gridcolor\":\"white\",\"linecolor\":\"white\",\"showbackground\":true,\"ticks\":\"\",\"zerolinecolor\":\"white\",\"gridwidth\":2}},\"shapedefaults\":{\"line\":{\"color\":\"#2a3f5f\"}},\"annotationdefaults\":{\"arrowcolor\":\"#2a3f5f\",\"arrowhead\":0,\"arrowwidth\":1},\"geo\":{\"bgcolor\":\"white\",\"landcolor\":\"#E5ECF6\",\"subunitcolor\":\"white\",\"showland\":true,\"showlakes\":true,\"lakecolor\":\"white\"},\"title\":{\"x\":0.05},\"mapbox\":{\"style\":\"light\"}}},\"xaxis\":{\"anchor\":\"y\",\"domain\":[0.0,1.0],\"title\":{\"text\":\"Country\"}},\"yaxis\":{\"anchor\":\"x\",\"domain\":[0.0,1.0],\"title\":{\"text\":\"Number of Actions\"}},\"legend\":{\"title\":{\"text\":\"device\"},\"tracegroupgap\":0},\"title\":{\"text\":\"Actions by Device Type in Top 3 Countries\"},\"barmode\":\"group\"},                        {\"responsive\": true}                    ).then(function(){\n",
       "                            \n",
       "var gd = document.getElementById('9ca7cde4-dc8c-44a0-9893-fd031a315c51');\n",
       "var x = new MutationObserver(function (mutations, observer) {{\n",
       "        var display = window.getComputedStyle(gd).display;\n",
       "        if (!display || display === 'none') {{\n",
       "            console.log([gd, 'removed!']);\n",
       "            Plotly.purge(gd);\n",
       "            observer.disconnect();\n",
       "        }}\n",
       "}});\n",
       "\n",
       "// Listen for the removal of the full notebook cells\n",
       "var notebookContainer = gd.closest('#notebook-container');\n",
       "if (notebookContainer) {{\n",
       "    x.observe(notebookContainer, {childList: true});\n",
       "}}\n",
       "\n",
       "// Listen for the clearing of the current output cell\n",
       "var outputEl = gd.closest('.output');\n",
       "if (outputEl) {{\n",
       "    x.observe(outputEl, {childList: true});\n",
       "}}\n",
       "\n",
       "                        })                };                });            </script>        </div>"
      ]
     },
     "metadata": {},
     "output_type": "display_data"
    }
   ],
   "source": [
    "device_action_counts = Google_sales_Data.groupby(['Country', 'device']).size().reset_index(name='count')\n",
    "\n",
    "total_counts = device_action_counts.groupby('Country')['count'].sum().reset_index()\n",
    "top_countries = total_counts.nlargest(3, 'count')['Country']\n",
    "\n",
    "top_device_actions = device_action_counts[device_action_counts['Country'].isin(top_countries)]\n",
    "\n",
    "top_device_actions = top_device_actions.sort_values(by='count', ascending=False)\n",
    "fig = px.bar(top_device_actions, \n",
    "    x='Country', \n",
    "    y='count', \n",
    "    color='device', \n",
    "   barmode='group', \n",
    "     title='Actions by Device Type in Top 3 Countries',\n",
    "    labels={'count': 'Number of Actions', 'Country': 'Country'},\n",
    "    text='count')\n",
    "        fig.show()"
   ]
  },
  {
   "cell_type": "code",
   "execution_count": 116,
   "id": "2fa368f1-b6db-449c-997b-91bb326eacd1",
   "metadata": {},
   "outputs": [
    {
     "data": {
      "application/vnd.plotly.v1+json": {
       "config": {
        "plotlyServerURL": "https://plot.ly"
       },
       "data": [
        {
         "hovertemplate": "<b>%{hovertext}</b><br><br>Device Type=%{y}<br>Action Type=%{x}<br>Number of Actions=%{marker.size}<extra></extra>",
         "hovertext": [
          "desktop",
          "desktop",
          "desktop"
         ],
         "legendgroup": "desktop",
         "marker": {
          "color": "#636efa",
          "size": [
           168342,
           8003,
           1692
          ],
          "sizemode": "area",
          "sizeref": 420.855,
          "symbol": "circle"
         },
         "mode": "markers",
         "name": "desktop",
         "orientation": "v",
         "showlegend": true,
         "type": "scatter",
         "x": [
          "add_to_cart",
          "begin_checkout",
          "purchase"
         ],
         "xaxis": "x",
         "y": [
          "desktop",
          "desktop",
          "desktop"
         ],
         "yaxis": "y"
        },
        {
         "hovertemplate": "<b>%{hovertext}</b><br><br>Device Type=%{y}<br>Action Type=%{x}<br>Number of Actions=%{marker.size}<extra></extra>",
         "hovertext": [
          "mobile",
          "mobile",
          "mobile"
         ],
         "legendgroup": "mobile",
         "marker": {
          "color": "#EF553B",
          "size": [
           115442,
           5387,
           1246
          ],
          "sizemode": "area",
          "sizeref": 420.855,
          "symbol": "circle"
         },
         "mode": "markers",
         "name": "mobile",
         "orientation": "v",
         "showlegend": true,
         "type": "scatter",
         "x": [
          "add_to_cart",
          "begin_checkout",
          "purchase"
         ],
         "xaxis": "x",
         "y": [
          "mobile",
          "mobile",
          "mobile"
         ],
         "yaxis": "y"
        },
        {
         "hovertemplate": "<b>%{hovertext}</b><br><br>Device Type=%{y}<br>Action Type=%{x}<br>Number of Actions=%{marker.size}<extra></extra>",
         "hovertext": [
          "tablet",
          "tablet",
          "tablet"
         ],
         "legendgroup": "tablet",
         "marker": {
          "color": "#00cc96",
          "size": [
           6220,
           301,
           57
          ],
          "sizemode": "area",
          "sizeref": 420.855,
          "symbol": "circle"
         },
         "mode": "markers",
         "name": "tablet",
         "orientation": "v",
         "showlegend": true,
         "type": "scatter",
         "x": [
          "add_to_cart",
          "begin_checkout",
          "purchase"
         ],
         "xaxis": "x",
         "y": [
          "tablet",
          "tablet",
          "tablet"
         ],
         "yaxis": "y"
        }
       ],
       "layout": {
        "annotations": [
         {
          "arrowhead": 2,
          "ax": -20,
          "ay": -20,
          "bgcolor": "white",
          "bordercolor": "black",
          "borderpad": 4,
          "borderwidth": 1,
          "font": {
           "color": "black",
           "size": 10
          },
          "showarrow": true,
          "text": "168342",
          "x": "add_to_cart",
          "y": "desktop"
         },
         {
          "arrowhead": 2,
          "ax": -20,
          "ay": -20,
          "bgcolor": "white",
          "bordercolor": "black",
          "borderpad": 4,
          "borderwidth": 1,
          "font": {
           "color": "black",
           "size": 10
          },
          "showarrow": true,
          "text": "8003",
          "x": "begin_checkout",
          "y": "desktop"
         },
         {
          "arrowhead": 2,
          "ax": -20,
          "ay": -20,
          "bgcolor": "white",
          "bordercolor": "black",
          "borderpad": 4,
          "borderwidth": 1,
          "font": {
           "color": "black",
           "size": 10
          },
          "showarrow": true,
          "text": "1692",
          "x": "purchase",
          "y": "desktop"
         },
         {
          "arrowhead": 2,
          "ax": -20,
          "ay": -20,
          "bgcolor": "white",
          "bordercolor": "black",
          "borderpad": 4,
          "borderwidth": 1,
          "font": {
           "color": "black",
           "size": 10
          },
          "showarrow": true,
          "text": "115442",
          "x": "add_to_cart",
          "y": "mobile"
         },
         {
          "arrowhead": 2,
          "ax": -20,
          "ay": -20,
          "bgcolor": "white",
          "bordercolor": "black",
          "borderpad": 4,
          "borderwidth": 1,
          "font": {
           "color": "black",
           "size": 10
          },
          "showarrow": true,
          "text": "5387",
          "x": "begin_checkout",
          "y": "mobile"
         },
         {
          "arrowhead": 2,
          "ax": -20,
          "ay": -20,
          "bgcolor": "white",
          "bordercolor": "black",
          "borderpad": 4,
          "borderwidth": 1,
          "font": {
           "color": "black",
           "size": 10
          },
          "showarrow": true,
          "text": "1246",
          "x": "purchase",
          "y": "mobile"
         },
         {
          "arrowhead": 2,
          "ax": -20,
          "ay": -20,
          "bgcolor": "white",
          "bordercolor": "black",
          "borderpad": 4,
          "borderwidth": 1,
          "font": {
           "color": "black",
           "size": 10
          },
          "showarrow": true,
          "text": "6220",
          "x": "add_to_cart",
          "y": "tablet"
         },
         {
          "arrowhead": 2,
          "ax": -20,
          "ay": -20,
          "bgcolor": "white",
          "bordercolor": "black",
          "borderpad": 4,
          "borderwidth": 1,
          "font": {
           "color": "black",
           "size": 10
          },
          "showarrow": true,
          "text": "301",
          "x": "begin_checkout",
          "y": "tablet"
         },
         {
          "arrowhead": 2,
          "ax": -20,
          "ay": -20,
          "bgcolor": "white",
          "bordercolor": "black",
          "borderpad": 4,
          "borderwidth": 1,
          "font": {
           "color": "black",
           "size": 10
          },
          "showarrow": true,
          "text": "57",
          "x": "purchase",
          "y": "tablet"
         }
        ],
        "autosize": true,
        "dragmode": "zoom",
        "legend": {
         "itemsizing": "constant",
         "title": {
          "text": "Device Type"
         },
         "tracegroupgap": 0
        },
        "template": {
         "data": {
          "bar": [
           {
            "error_x": {
             "color": "#2a3f5f"
            },
            "error_y": {
             "color": "#2a3f5f"
            },
            "marker": {
             "line": {
              "color": "white",
              "width": 0.5
             },
             "pattern": {
              "fillmode": "overlay",
              "size": 10,
              "solidity": 0.2
             }
            },
            "type": "bar"
           }
          ],
          "barpolar": [
           {
            "marker": {
             "line": {
              "color": "white",
              "width": 0.5
             },
             "pattern": {
              "fillmode": "overlay",
              "size": 10,
              "solidity": 0.2
             }
            },
            "type": "barpolar"
           }
          ],
          "carpet": [
           {
            "aaxis": {
             "endlinecolor": "#2a3f5f",
             "gridcolor": "#C8D4E3",
             "linecolor": "#C8D4E3",
             "minorgridcolor": "#C8D4E3",
             "startlinecolor": "#2a3f5f"
            },
            "baxis": {
             "endlinecolor": "#2a3f5f",
             "gridcolor": "#C8D4E3",
             "linecolor": "#C8D4E3",
             "minorgridcolor": "#C8D4E3",
             "startlinecolor": "#2a3f5f"
            },
            "type": "carpet"
           }
          ],
          "choropleth": [
           {
            "colorbar": {
             "outlinewidth": 0,
             "ticks": ""
            },
            "type": "choropleth"
           }
          ],
          "contour": [
           {
            "colorbar": {
             "outlinewidth": 0,
             "ticks": ""
            },
            "colorscale": [
             [
              0,
              "#0d0887"
             ],
             [
              0.1111111111111111,
              "#46039f"
             ],
             [
              0.2222222222222222,
              "#7201a8"
             ],
             [
              0.3333333333333333,
              "#9c179e"
             ],
             [
              0.4444444444444444,
              "#bd3786"
             ],
             [
              0.5555555555555556,
              "#d8576b"
             ],
             [
              0.6666666666666666,
              "#ed7953"
             ],
             [
              0.7777777777777778,
              "#fb9f3a"
             ],
             [
              0.8888888888888888,
              "#fdca26"
             ],
             [
              1,
              "#f0f921"
             ]
            ],
            "type": "contour"
           }
          ],
          "contourcarpet": [
           {
            "colorbar": {
             "outlinewidth": 0,
             "ticks": ""
            },
            "type": "contourcarpet"
           }
          ],
          "heatmap": [
           {
            "colorbar": {
             "outlinewidth": 0,
             "ticks": ""
            },
            "colorscale": [
             [
              0,
              "#0d0887"
             ],
             [
              0.1111111111111111,
              "#46039f"
             ],
             [
              0.2222222222222222,
              "#7201a8"
             ],
             [
              0.3333333333333333,
              "#9c179e"
             ],
             [
              0.4444444444444444,
              "#bd3786"
             ],
             [
              0.5555555555555556,
              "#d8576b"
             ],
             [
              0.6666666666666666,
              "#ed7953"
             ],
             [
              0.7777777777777778,
              "#fb9f3a"
             ],
             [
              0.8888888888888888,
              "#fdca26"
             ],
             [
              1,
              "#f0f921"
             ]
            ],
            "type": "heatmap"
           }
          ],
          "heatmapgl": [
           {
            "colorbar": {
             "outlinewidth": 0,
             "ticks": ""
            },
            "colorscale": [
             [
              0,
              "#0d0887"
             ],
             [
              0.1111111111111111,
              "#46039f"
             ],
             [
              0.2222222222222222,
              "#7201a8"
             ],
             [
              0.3333333333333333,
              "#9c179e"
             ],
             [
              0.4444444444444444,
              "#bd3786"
             ],
             [
              0.5555555555555556,
              "#d8576b"
             ],
             [
              0.6666666666666666,
              "#ed7953"
             ],
             [
              0.7777777777777778,
              "#fb9f3a"
             ],
             [
              0.8888888888888888,
              "#fdca26"
             ],
             [
              1,
              "#f0f921"
             ]
            ],
            "type": "heatmapgl"
           }
          ],
          "histogram": [
           {
            "marker": {
             "pattern": {
              "fillmode": "overlay",
              "size": 10,
              "solidity": 0.2
             }
            },
            "type": "histogram"
           }
          ],
          "histogram2d": [
           {
            "colorbar": {
             "outlinewidth": 0,
             "ticks": ""
            },
            "colorscale": [
             [
              0,
              "#0d0887"
             ],
             [
              0.1111111111111111,
              "#46039f"
             ],
             [
              0.2222222222222222,
              "#7201a8"
             ],
             [
              0.3333333333333333,
              "#9c179e"
             ],
             [
              0.4444444444444444,
              "#bd3786"
             ],
             [
              0.5555555555555556,
              "#d8576b"
             ],
             [
              0.6666666666666666,
              "#ed7953"
             ],
             [
              0.7777777777777778,
              "#fb9f3a"
             ],
             [
              0.8888888888888888,
              "#fdca26"
             ],
             [
              1,
              "#f0f921"
             ]
            ],
            "type": "histogram2d"
           }
          ],
          "histogram2dcontour": [
           {
            "colorbar": {
             "outlinewidth": 0,
             "ticks": ""
            },
            "colorscale": [
             [
              0,
              "#0d0887"
             ],
             [
              0.1111111111111111,
              "#46039f"
             ],
             [
              0.2222222222222222,
              "#7201a8"
             ],
             [
              0.3333333333333333,
              "#9c179e"
             ],
             [
              0.4444444444444444,
              "#bd3786"
             ],
             [
              0.5555555555555556,
              "#d8576b"
             ],
             [
              0.6666666666666666,
              "#ed7953"
             ],
             [
              0.7777777777777778,
              "#fb9f3a"
             ],
             [
              0.8888888888888888,
              "#fdca26"
             ],
             [
              1,
              "#f0f921"
             ]
            ],
            "type": "histogram2dcontour"
           }
          ],
          "mesh3d": [
           {
            "colorbar": {
             "outlinewidth": 0,
             "ticks": ""
            },
            "type": "mesh3d"
           }
          ],
          "parcoords": [
           {
            "line": {
             "colorbar": {
              "outlinewidth": 0,
              "ticks": ""
             }
            },
            "type": "parcoords"
           }
          ],
          "pie": [
           {
            "automargin": true,
            "type": "pie"
           }
          ],
          "scatter": [
           {
            "fillpattern": {
             "fillmode": "overlay",
             "size": 10,
             "solidity": 0.2
            },
            "type": "scatter"
           }
          ],
          "scatter3d": [
           {
            "line": {
             "colorbar": {
              "outlinewidth": 0,
              "ticks": ""
             }
            },
            "marker": {
             "colorbar": {
              "outlinewidth": 0,
              "ticks": ""
             }
            },
            "type": "scatter3d"
           }
          ],
          "scattercarpet": [
           {
            "marker": {
             "colorbar": {
              "outlinewidth": 0,
              "ticks": ""
             }
            },
            "type": "scattercarpet"
           }
          ],
          "scattergeo": [
           {
            "marker": {
             "colorbar": {
              "outlinewidth": 0,
              "ticks": ""
             }
            },
            "type": "scattergeo"
           }
          ],
          "scattergl": [
           {
            "marker": {
             "colorbar": {
              "outlinewidth": 0,
              "ticks": ""
             }
            },
            "type": "scattergl"
           }
          ],
          "scattermapbox": [
           {
            "marker": {
             "colorbar": {
              "outlinewidth": 0,
              "ticks": ""
             }
            },
            "type": "scattermapbox"
           }
          ],
          "scatterpolar": [
           {
            "marker": {
             "colorbar": {
              "outlinewidth": 0,
              "ticks": ""
             }
            },
            "type": "scatterpolar"
           }
          ],
          "scatterpolargl": [
           {
            "marker": {
             "colorbar": {
              "outlinewidth": 0,
              "ticks": ""
             }
            },
            "type": "scatterpolargl"
           }
          ],
          "scatterternary": [
           {
            "marker": {
             "colorbar": {
              "outlinewidth": 0,
              "ticks": ""
             }
            },
            "type": "scatterternary"
           }
          ],
          "surface": [
           {
            "colorbar": {
             "outlinewidth": 0,
             "ticks": ""
            },
            "colorscale": [
             [
              0,
              "#0d0887"
             ],
             [
              0.1111111111111111,
              "#46039f"
             ],
             [
              0.2222222222222222,
              "#7201a8"
             ],
             [
              0.3333333333333333,
              "#9c179e"
             ],
             [
              0.4444444444444444,
              "#bd3786"
             ],
             [
              0.5555555555555556,
              "#d8576b"
             ],
             [
              0.6666666666666666,
              "#ed7953"
             ],
             [
              0.7777777777777778,
              "#fb9f3a"
             ],
             [
              0.8888888888888888,
              "#fdca26"
             ],
             [
              1,
              "#f0f921"
             ]
            ],
            "type": "surface"
           }
          ],
          "table": [
           {
            "cells": {
             "fill": {
              "color": "#EBF0F8"
             },
             "line": {
              "color": "white"
             }
            },
            "header": {
             "fill": {
              "color": "#C8D4E3"
             },
             "line": {
              "color": "white"
             }
            },
            "type": "table"
           }
          ]
         },
         "layout": {
          "annotationdefaults": {
           "arrowcolor": "#2a3f5f",
           "arrowhead": 0,
           "arrowwidth": 1
          },
          "autotypenumbers": "strict",
          "coloraxis": {
           "colorbar": {
            "outlinewidth": 0,
            "ticks": ""
           }
          },
          "colorscale": {
           "diverging": [
            [
             0,
             "#8e0152"
            ],
            [
             0.1,
             "#c51b7d"
            ],
            [
             0.2,
             "#de77ae"
            ],
            [
             0.3,
             "#f1b6da"
            ],
            [
             0.4,
             "#fde0ef"
            ],
            [
             0.5,
             "#f7f7f7"
            ],
            [
             0.6,
             "#e6f5d0"
            ],
            [
             0.7,
             "#b8e186"
            ],
            [
             0.8,
             "#7fbc41"
            ],
            [
             0.9,
             "#4d9221"
            ],
            [
             1,
             "#276419"
            ]
           ],
           "sequential": [
            [
             0,
             "#0d0887"
            ],
            [
             0.1111111111111111,
             "#46039f"
            ],
            [
             0.2222222222222222,
             "#7201a8"
            ],
            [
             0.3333333333333333,
             "#9c179e"
            ],
            [
             0.4444444444444444,
             "#bd3786"
            ],
            [
             0.5555555555555556,
             "#d8576b"
            ],
            [
             0.6666666666666666,
             "#ed7953"
            ],
            [
             0.7777777777777778,
             "#fb9f3a"
            ],
            [
             0.8888888888888888,
             "#fdca26"
            ],
            [
             1,
             "#f0f921"
            ]
           ],
           "sequentialminus": [
            [
             0,
             "#0d0887"
            ],
            [
             0.1111111111111111,
             "#46039f"
            ],
            [
             0.2222222222222222,
             "#7201a8"
            ],
            [
             0.3333333333333333,
             "#9c179e"
            ],
            [
             0.4444444444444444,
             "#bd3786"
            ],
            [
             0.5555555555555556,
             "#d8576b"
            ],
            [
             0.6666666666666666,
             "#ed7953"
            ],
            [
             0.7777777777777778,
             "#fb9f3a"
            ],
            [
             0.8888888888888888,
             "#fdca26"
            ],
            [
             1,
             "#f0f921"
            ]
           ]
          },
          "colorway": [
           "#636efa",
           "#EF553B",
           "#00cc96",
           "#ab63fa",
           "#FFA15A",
           "#19d3f3",
           "#FF6692",
           "#B6E880",
           "#FF97FF",
           "#FECB52"
          ],
          "font": {
           "color": "#2a3f5f"
          },
          "geo": {
           "bgcolor": "white",
           "lakecolor": "white",
           "landcolor": "white",
           "showlakes": true,
           "showland": true,
           "subunitcolor": "#C8D4E3"
          },
          "hoverlabel": {
           "align": "left"
          },
          "hovermode": "closest",
          "mapbox": {
           "style": "light"
          },
          "paper_bgcolor": "white",
          "plot_bgcolor": "white",
          "polar": {
           "angularaxis": {
            "gridcolor": "#EBF0F8",
            "linecolor": "#EBF0F8",
            "ticks": ""
           },
           "bgcolor": "white",
           "radialaxis": {
            "gridcolor": "#EBF0F8",
            "linecolor": "#EBF0F8",
            "ticks": ""
           }
          },
          "scene": {
           "xaxis": {
            "backgroundcolor": "white",
            "gridcolor": "#DFE8F3",
            "gridwidth": 2,
            "linecolor": "#EBF0F8",
            "showbackground": true,
            "ticks": "",
            "zerolinecolor": "#EBF0F8"
           },
           "yaxis": {
            "backgroundcolor": "white",
            "gridcolor": "#DFE8F3",
            "gridwidth": 2,
            "linecolor": "#EBF0F8",
            "showbackground": true,
            "ticks": "",
            "zerolinecolor": "#EBF0F8"
           },
           "zaxis": {
            "backgroundcolor": "white",
            "gridcolor": "#DFE8F3",
            "gridwidth": 2,
            "linecolor": "#EBF0F8",
            "showbackground": true,
            "ticks": "",
            "zerolinecolor": "#EBF0F8"
           }
          },
          "shapedefaults": {
           "line": {
            "color": "#2a3f5f"
           }
          },
          "ternary": {
           "aaxis": {
            "gridcolor": "#DFE8F3",
            "linecolor": "#A2B1C6",
            "ticks": ""
           },
           "baxis": {
            "gridcolor": "#DFE8F3",
            "linecolor": "#A2B1C6",
            "ticks": ""
           },
           "bgcolor": "white",
           "caxis": {
            "gridcolor": "#DFE8F3",
            "linecolor": "#A2B1C6",
            "ticks": ""
           }
          },
          "title": {
           "x": 0.05
          },
          "xaxis": {
           "automargin": true,
           "gridcolor": "#EBF0F8",
           "linecolor": "#EBF0F8",
           "ticks": "",
           "title": {
            "standoff": 15
           },
           "zerolinecolor": "#EBF0F8",
           "zerolinewidth": 2
          },
          "yaxis": {
           "automargin": true,
           "gridcolor": "#EBF0F8",
           "linecolor": "#EBF0F8",
           "ticks": "",
           "title": {
            "standoff": 15
           },
           "zerolinecolor": "#EBF0F8",
           "zerolinewidth": 2
          }
         }
        },
        "title": {
         "font": {
          "color": "blue",
          "family": "Arial",
          "size": 24
         },
         "text": "Actions Performed by Device Type"
        },
        "xaxis": {
         "anchor": "y",
         "autorange": true,
         "domain": [
          0,
          1
         ],
         "range": [
          -0.1543611732048269,
          2.1214899083561587
         ],
         "title": {
          "font": {
           "color": "black",
           "size": 18
          },
          "text": "Action Type"
         },
         "type": "category"
        },
        "yaxis": {
         "anchor": "x",
         "autorange": true,
         "categoryarray": [
          "tablet",
          "mobile",
          "desktop"
         ],
         "categoryorder": "array",
         "domain": [
          0,
          1
         ],
         "range": [
          -0.1764502872467259,
          2.461671273052336
         ],
         "title": {
          "font": {
           "color": "black",
           "size": 18
          },
          "text": "Device Type"
         },
         "type": "category"
        }
       }
      },
      "image/png": "[encoded data removed]",
      "text/html": [
       "<div>                            <div id=\"58047097-d020-4f0b-947b-1f469b56454b\" class=\"plotly-graph-div\" style=\"height:525px; width:100%;\"></div>            <script type=\"text/javascript\">                require([\"plotly\"], function(Plotly) {                    window.PLOTLYENV=window.PLOTLYENV || {};                                    if (document.getElementById(\"58047097-d020-4f0b-947b-1f469b56454b\")) {                    Plotly.newPlot(                        \"58047097-d020-4f0b-947b-1f469b56454b\",                        [{\"hovertemplate\":\"\\u003cb\\u003e%{hovertext}\\u003c\\u002fb\\u003e\\u003cbr\\u003e\\u003cbr\\u003eDevice Type=%{y}\\u003cbr\\u003eAction Type=%{x}\\u003cbr\\u003eNumber of Actions=%{marker.size}\\u003cextra\\u003e\\u003c\\u002fextra\\u003e\",\"hovertext\":[\"desktop\",\"desktop\",\"desktop\"],\"legendgroup\":\"desktop\",\"marker\":{\"color\":\"#636efa\",\"size\":[168342,8003,1692],\"sizemode\":\"area\",\"sizeref\":420.855,\"symbol\":\"circle\"},\"mode\":\"markers\",\"name\":\"desktop\",\"orientation\":\"v\",\"showlegend\":true,\"x\":[\"add_to_cart\",\"begin_checkout\",\"purchase\"],\"xaxis\":\"x\",\"y\":[\"desktop\",\"desktop\",\"desktop\"],\"yaxis\":\"y\",\"type\":\"scatter\"},{\"hovertemplate\":\"\\u003cb\\u003e%{hovertext}\\u003c\\u002fb\\u003e\\u003cbr\\u003e\\u003cbr\\u003eDevice Type=%{y}\\u003cbr\\u003eAction Type=%{x}\\u003cbr\\u003eNumber of Actions=%{marker.size}\\u003cextra\\u003e\\u003c\\u002fextra\\u003e\",\"hovertext\":[\"mobile\",\"mobile\",\"mobile\"],\"legendgroup\":\"mobile\",\"marker\":{\"color\":\"#EF553B\",\"size\":[115442,5387,1246],\"sizemode\":\"area\",\"sizeref\":420.855,\"symbol\":\"circle\"},\"mode\":\"markers\",\"name\":\"mobile\",\"orientation\":\"v\",\"showlegend\":true,\"x\":[\"add_to_cart\",\"begin_checkout\",\"purchase\"],\"xaxis\":\"x\",\"y\":[\"mobile\",\"mobile\",\"mobile\"],\"yaxis\":\"y\",\"type\":\"scatter\"},{\"hovertemplate\":\"\\u003cb\\u003e%{hovertext}\\u003c\\u002fb\\u003e\\u003cbr\\u003e\\u003cbr\\u003eDevice Type=%{y}\\u003cbr\\u003eAction Type=%{x}\\u003cbr\\u003eNumber of Actions=%{marker.size}\\u003cextra\\u003e\\u003c\\u002fextra\\u003e\",\"hovertext\":[\"tablet\",\"tablet\",\"tablet\"],\"legendgroup\":\"tablet\",\"marker\":{\"color\":\"#00cc96\",\"size\":[6220,301,57],\"sizemode\":\"area\",\"sizeref\":420.855,\"symbol\":\"circle\"},\"mode\":\"markers\",\"name\":\"tablet\",\"orientation\":\"v\",\"showlegend\":true,\"x\":[\"add_to_cart\",\"begin_checkout\",\"purchase\"],\"xaxis\":\"x\",\"y\":[\"tablet\",\"tablet\",\"tablet\"],\"yaxis\":\"y\",\"type\":\"scatter\"}],                        {\"template\":{\"data\":{\"barpolar\":[{\"marker\":{\"line\":{\"color\":\"white\",\"width\":0.5},\"pattern\":{\"fillmode\":\"overlay\",\"size\":10,\"solidity\":0.2}},\"type\":\"barpolar\"}],\"bar\":[{\"error_x\":{\"color\":\"#2a3f5f\"},\"error_y\":{\"color\":\"#2a3f5f\"},\"marker\":{\"line\":{\"color\":\"white\",\"width\":0.5},\"pattern\":{\"fillmode\":\"overlay\",\"size\":10,\"solidity\":0.2}},\"type\":\"bar\"}],\"carpet\":[{\"aaxis\":{\"endlinecolor\":\"#2a3f5f\",\"gridcolor\":\"#C8D4E3\",\"linecolor\":\"#C8D4E3\",\"minorgridcolor\":\"#C8D4E3\",\"startlinecolor\":\"#2a3f5f\"},\"baxis\":{\"endlinecolor\":\"#2a3f5f\",\"gridcolor\":\"#C8D4E3\",\"linecolor\":\"#C8D4E3\",\"minorgridcolor\":\"#C8D4E3\",\"startlinecolor\":\"#2a3f5f\"},\"type\":\"carpet\"}],\"choropleth\":[{\"colorbar\":{\"outlinewidth\":0,\"ticks\":\"\"},\"type\":\"choropleth\"}],\"contourcarpet\":[{\"colorbar\":{\"outlinewidth\":0,\"ticks\":\"\"},\"type\":\"contourcarpet\"}],\"contour\":[{\"colorbar\":{\"outlinewidth\":0,\"ticks\":\"\"},\"colorscale\":[[0.0,\"#0d0887\"],[0.1111111111111111,\"#46039f\"],[0.2222222222222222,\"#7201a8\"],[0.3333333333333333,\"#9c179e\"],[0.4444444444444444,\"#bd3786\"],[0.5555555555555556,\"#d8576b\"],[0.6666666666666666,\"#ed7953\"],[0.7777777777777778,\"#fb9f3a\"],[0.8888888888888888,\"#fdca26\"],[1.0,\"#f0f921\"]],\"type\":\"contour\"}],\"heatmapgl\":[{\"colorbar\":{\"outlinewidth\":0,\"ticks\":\"\"},\"colorscale\":[[0.0,\"#0d0887\"],[0.1111111111111111,\"#46039f\"],[0.2222222222222222,\"#7201a8\"],[0.3333333333333333,\"#9c179e\"],[0.4444444444444444,\"#bd3786\"],[0.5555555555555556,\"#d8576b\"],[0.6666666666666666,\"#ed7953\"],[0.7777777777777778,\"#fb9f3a\"],[0.8888888888888888,\"#fdca26\"],[1.0,\"#f0f921\"]],\"type\":\"heatmapgl\"}],\"heatmap\":[{\"colorbar\":{\"outlinewidth\":0,\"ticks\":\"\"},\"colorscale\":[[0.0,\"#0d0887\"],[0.1111111111111111,\"#46039f\"],[0.2222222222222222,\"#7201a8\"],[0.3333333333333333,\"#9c179e\"],[0.4444444444444444,\"#bd3786\"],[0.5555555555555556,\"#d8576b\"],[0.6666666666666666,\"#ed7953\"],[0.7777777777777778,\"#fb9f3a\"],[0.8888888888888888,\"#fdca26\"],[1.0,\"#f0f921\"]],\"type\":\"heatmap\"}],\"histogram2dcontour\":[{\"colorbar\":{\"outlinewidth\":0,\"ticks\":\"\"},\"colorscale\":[[0.0,\"#0d0887\"],[0.1111111111111111,\"#46039f\"],[0.2222222222222222,\"#7201a8\"],[0.3333333333333333,\"#9c179e\"],[0.4444444444444444,\"#bd3786\"],[0.5555555555555556,\"#d8576b\"],[0.6666666666666666,\"#ed7953\"],[0.7777777777777778,\"#fb9f3a\"],[0.8888888888888888,\"#fdca26\"],[1.0,\"#f0f921\"]],\"type\":\"histogram2dcontour\"}],\"histogram2d\":[{\"colorbar\":{\"outlinewidth\":0,\"ticks\":\"\"},\"colorscale\":[[0.0,\"#0d0887\"],[0.1111111111111111,\"#46039f\"],[0.2222222222222222,\"#7201a8\"],[0.3333333333333333,\"#9c179e\"],[0.4444444444444444,\"#bd3786\"],[0.5555555555555556,\"#d8576b\"],[0.6666666666666666,\"#ed7953\"],[0.7777777777777778,\"#fb9f3a\"],[0.8888888888888888,\"#fdca26\"],[1.0,\"#f0f921\"]],\"type\":\"histogram2d\"}],\"histogram\":[{\"marker\":{\"pattern\":{\"fillmode\":\"overlay\",\"size\":10,\"solidity\":0.2}},\"type\":\"histogram\"}],\"mesh3d\":[{\"colorbar\":{\"outlinewidth\":0,\"ticks\":\"\"},\"type\":\"mesh3d\"}],\"parcoords\":[{\"line\":{\"colorbar\":{\"outlinewidth\":0,\"ticks\":\"\"}},\"type\":\"parcoords\"}],\"pie\":[{\"automargin\":true,\"type\":\"pie\"}],\"scatter3d\":[{\"line\":{\"colorbar\":{\"outlinewidth\":0,\"ticks\":\"\"}},\"marker\":{\"colorbar\":{\"outlinewidth\":0,\"ticks\":\"\"}},\"type\":\"scatter3d\"}],\"scattercarpet\":[{\"marker\":{\"colorbar\":{\"outlinewidth\":0,\"ticks\":\"\"}},\"type\":\"scattercarpet\"}],\"scattergeo\":[{\"marker\":{\"colorbar\":{\"outlinewidth\":0,\"ticks\":\"\"}},\"type\":\"scattergeo\"}],\"scattergl\":[{\"marker\":{\"colorbar\":{\"outlinewidth\":0,\"ticks\":\"\"}},\"type\":\"scattergl\"}],\"scattermapbox\":[{\"marker\":{\"colorbar\":{\"outlinewidth\":0,\"ticks\":\"\"}},\"type\":\"scattermapbox\"}],\"scatterpolargl\":[{\"marker\":{\"colorbar\":{\"outlinewidth\":0,\"ticks\":\"\"}},\"type\":\"scatterpolargl\"}],\"scatterpolar\":[{\"marker\":{\"colorbar\":{\"outlinewidth\":0,\"ticks\":\"\"}},\"type\":\"scatterpolar\"}],\"scatter\":[{\"fillpattern\":{\"fillmode\":\"overlay\",\"size\":10,\"solidity\":0.2},\"type\":\"scatter\"}],\"scatterternary\":[{\"marker\":{\"colorbar\":{\"outlinewidth\":0,\"ticks\":\"\"}},\"type\":\"scatterternary\"}],\"surface\":[{\"colorbar\":{\"outlinewidth\":0,\"ticks\":\"\"},\"colorscale\":[[0.0,\"#0d0887\"],[0.1111111111111111,\"#46039f\"],[0.2222222222222222,\"#7201a8\"],[0.3333333333333333,\"#9c179e\"],[0.4444444444444444,\"#bd3786\"],[0.5555555555555556,\"#d8576b\"],[0.6666666666666666,\"#ed7953\"],[0.7777777777777778,\"#fb9f3a\"],[0.8888888888888888,\"#fdca26\"],[1.0,\"#f0f921\"]],\"type\":\"surface\"}],\"table\":[{\"cells\":{\"fill\":{\"color\":\"#EBF0F8\"},\"line\":{\"color\":\"white\"}},\"header\":{\"fill\":{\"color\":\"#C8D4E3\"},\"line\":{\"color\":\"white\"}},\"type\":\"table\"}]},\"layout\":{\"annotationdefaults\":{\"arrowcolor\":\"#2a3f5f\",\"arrowhead\":0,\"arrowwidth\":1},\"autotypenumbers\":\"strict\",\"coloraxis\":{\"colorbar\":{\"outlinewidth\":0,\"ticks\":\"\"}},\"colorscale\":{\"diverging\":[[0,\"#8e0152\"],[0.1,\"#c51b7d\"],[0.2,\"#de77ae\"],[0.3,\"#f1b6da\"],[0.4,\"#fde0ef\"],[0.5,\"#f7f7f7\"],[0.6,\"#e6f5d0\"],[0.7,\"#b8e186\"],[0.8,\"#7fbc41\"],[0.9,\"#4d9221\"],[1,\"#276419\"]],\"sequential\":[[0.0,\"#0d0887\"],[0.1111111111111111,\"#46039f\"],[0.2222222222222222,\"#7201a8\"],[0.3333333333333333,\"#9c179e\"],[0.4444444444444444,\"#bd3786\"],[0.5555555555555556,\"#d8576b\"],[0.6666666666666666,\"#ed7953\"],[0.7777777777777778,\"#fb9f3a\"],[0.8888888888888888,\"#fdca26\"],[1.0,\"#f0f921\"]],\"sequentialminus\":[[0.0,\"#0d0887\"],[0.1111111111111111,\"#46039f\"],[0.2222222222222222,\"#7201a8\"],[0.3333333333333333,\"#9c179e\"],[0.4444444444444444,\"#bd3786\"],[0.5555555555555556,\"#d8576b\"],[0.6666666666666666,\"#ed7953\"],[0.7777777777777778,\"#fb9f3a\"],[0.8888888888888888,\"#fdca26\"],[1.0,\"#f0f921\"]]},\"colorway\":[\"#636efa\",\"#EF553B\",\"#00cc96\",\"#ab63fa\",\"#FFA15A\",\"#19d3f3\",\"#FF6692\",\"#B6E880\",\"#FF97FF\",\"#FECB52\"],\"font\":{\"color\":\"#2a3f5f\"},\"geo\":{\"bgcolor\":\"white\",\"lakecolor\":\"white\",\"landcolor\":\"white\",\"showlakes\":true,\"showland\":true,\"subunitcolor\":\"#C8D4E3\"},\"hoverlabel\":{\"align\":\"left\"},\"hovermode\":\"closest\",\"mapbox\":{\"style\":\"light\"},\"paper_bgcolor\":\"white\",\"plot_bgcolor\":\"white\",\"polar\":{\"angularaxis\":{\"gridcolor\":\"#EBF0F8\",\"linecolor\":\"#EBF0F8\",\"ticks\":\"\"},\"bgcolor\":\"white\",\"radialaxis\":{\"gridcolor\":\"#EBF0F8\",\"linecolor\":\"#EBF0F8\",\"ticks\":\"\"}},\"scene\":{\"xaxis\":{\"backgroundcolor\":\"white\",\"gridcolor\":\"#DFE8F3\",\"gridwidth\":2,\"linecolor\":\"#EBF0F8\",\"showbackground\":true,\"ticks\":\"\",\"zerolinecolor\":\"#EBF0F8\"},\"yaxis\":{\"backgroundcolor\":\"white\",\"gridcolor\":\"#DFE8F3\",\"gridwidth\":2,\"linecolor\":\"#EBF0F8\",\"showbackground\":true,\"ticks\":\"\",\"zerolinecolor\":\"#EBF0F8\"},\"zaxis\":{\"backgroundcolor\":\"white\",\"gridcolor\":\"#DFE8F3\",\"gridwidth\":2,\"linecolor\":\"#EBF0F8\",\"showbackground\":true,\"ticks\":\"\",\"zerolinecolor\":\"#EBF0F8\"}},\"shapedefaults\":{\"line\":{\"color\":\"#2a3f5f\"}},\"ternary\":{\"aaxis\":{\"gridcolor\":\"#DFE8F3\",\"linecolor\":\"#A2B1C6\",\"ticks\":\"\"},\"baxis\":{\"gridcolor\":\"#DFE8F3\",\"linecolor\":\"#A2B1C6\",\"ticks\":\"\"},\"bgcolor\":\"white\",\"caxis\":{\"gridcolor\":\"#DFE8F3\",\"linecolor\":\"#A2B1C6\",\"ticks\":\"\"}},\"title\":{\"x\":0.05},\"xaxis\":{\"automargin\":true,\"gridcolor\":\"#EBF0F8\",\"linecolor\":\"#EBF0F8\",\"ticks\":\"\",\"title\":{\"standoff\":15},\"zerolinecolor\":\"#EBF0F8\",\"zerolinewidth\":2},\"yaxis\":{\"automargin\":true,\"gridcolor\":\"#EBF0F8\",\"linecolor\":\"#EBF0F8\",\"ticks\":\"\",\"title\":{\"standoff\":15},\"zerolinecolor\":\"#EBF0F8\",\"zerolinewidth\":2}}},\"xaxis\":{\"anchor\":\"y\",\"domain\":[0.0,1.0],\"title\":{\"text\":\"Action Type\",\"font\":{\"size\":18,\"color\":\"black\"}}},\"yaxis\":{\"anchor\":\"x\",\"domain\":[0.0,1.0],\"title\":{\"text\":\"Device Type\",\"font\":{\"size\":18,\"color\":\"black\"}},\"categoryorder\":\"array\",\"categoryarray\":[\"tablet\",\"mobile\",\"desktop\"]},\"legend\":{\"title\":{\"text\":\"Device Type\"},\"tracegroupgap\":0,\"itemsizing\":\"constant\"},\"title\":{\"text\":\"Actions Performed by Device Type\",\"font\":{\"size\":24,\"color\":\"blue\",\"family\":\"Arial\"}},\"annotations\":[{\"arrowhead\":2,\"ax\":-20,\"ay\":-20,\"bgcolor\":\"white\",\"bordercolor\":\"black\",\"borderpad\":4,\"borderwidth\":1,\"font\":{\"color\":\"black\",\"size\":10},\"showarrow\":true,\"text\":\"168342\",\"x\":\"add_to_cart\",\"y\":\"desktop\"},{\"arrowhead\":2,\"ax\":-20,\"ay\":-20,\"bgcolor\":\"white\",\"bordercolor\":\"black\",\"borderpad\":4,\"borderwidth\":1,\"font\":{\"color\":\"black\",\"size\":10},\"showarrow\":true,\"text\":\"8003\",\"x\":\"begin_checkout\",\"y\":\"desktop\"},{\"arrowhead\":2,\"ax\":-20,\"ay\":-20,\"bgcolor\":\"white\",\"bordercolor\":\"black\",\"borderpad\":4,\"borderwidth\":1,\"font\":{\"color\":\"black\",\"size\":10},\"showarrow\":true,\"text\":\"1692\",\"x\":\"purchase\",\"y\":\"desktop\"},{\"arrowhead\":2,\"ax\":-20,\"ay\":-20,\"bgcolor\":\"white\",\"bordercolor\":\"black\",\"borderpad\":4,\"borderwidth\":1,\"font\":{\"color\":\"black\",\"size\":10},\"showarrow\":true,\"text\":\"115442\",\"x\":\"add_to_cart\",\"y\":\"mobile\"},{\"arrowhead\":2,\"ax\":-20,\"ay\":-20,\"bgcolor\":\"white\",\"bordercolor\":\"black\",\"borderpad\":4,\"borderwidth\":1,\"font\":{\"color\":\"black\",\"size\":10},\"showarrow\":true,\"text\":\"5387\",\"x\":\"begin_checkout\",\"y\":\"mobile\"},{\"arrowhead\":2,\"ax\":-20,\"ay\":-20,\"bgcolor\":\"white\",\"bordercolor\":\"black\",\"borderpad\":4,\"borderwidth\":1,\"font\":{\"color\":\"black\",\"size\":10},\"showarrow\":true,\"text\":\"1246\",\"x\":\"purchase\",\"y\":\"mobile\"},{\"arrowhead\":2,\"ax\":-20,\"ay\":-20,\"bgcolor\":\"white\",\"bordercolor\":\"black\",\"borderpad\":4,\"borderwidth\":1,\"font\":{\"color\":\"black\",\"size\":10},\"showarrow\":true,\"text\":\"6220\",\"x\":\"add_to_cart\",\"y\":\"tablet\"},{\"arrowhead\":2,\"ax\":-20,\"ay\":-20,\"bgcolor\":\"white\",\"bordercolor\":\"black\",\"borderpad\":4,\"borderwidth\":1,\"font\":{\"color\":\"black\",\"size\":10},\"showarrow\":true,\"text\":\"301\",\"x\":\"begin_checkout\",\"y\":\"tablet\"},{\"arrowhead\":2,\"ax\":-20,\"ay\":-20,\"bgcolor\":\"white\",\"bordercolor\":\"black\",\"borderpad\":4,\"borderwidth\":1,\"font\":{\"color\":\"black\",\"size\":10},\"showarrow\":true,\"text\":\"57\",\"x\":\"purchase\",\"y\":\"tablet\"}]},                        {\"responsive\": true}                    ).then(function(){\n",
       "                            \n",
       "var gd = document.getElementById('58047097-d020-4f0b-947b-1f469b56454b');\n",
       "var x = new MutationObserver(function (mutations, observer) {{\n",
       "        var display = window.getComputedStyle(gd).display;\n",
       "        if (!display || display === 'none') {{\n",
       "            console.log([gd, 'removed!']);\n",
       "            Plotly.purge(gd);\n",
       "            observer.disconnect();\n",
       "        }}\n",
       "}});\n",
       "\n",
       "// Listen for the removal of the full notebook cells\n",
       "var notebookContainer = gd.closest('#notebook-container');\n",
       "if (notebookContainer) {{\n",
       "    x.observe(notebookContainer, {childList: true});\n",
       "}}\n",
       "\n",
       "// Listen for the clearing of the current output cell\n",
       "var outputEl = gd.closest('.output');\n",
       "if (outputEl) {{\n",
       "    x.observe(outputEl, {childList: true});\n",
       "}}\n",
       "\n",
       "                        })                };                });            </script>        </div>"
      ]
     },
     "metadata": {},
     "output_type": "display_data"
    }
   ],
   "source": [
    "device_action_counts = Google_sales_Data.groupby(['device', 'type']).size().reset_index(name='count')\n",
    "\n",
    "fig = px.scatter(device_action_counts, \n",
    "               x='type',            \n",
    "                 y='device',           \n",
    "               size='count',         \n",
    "               color='device',     \n",
    "               hover_name='device',   \n",
    "               title='Actions Performed by Device Type',\n",
    "               labels={'count': 'Number of Actions', 'device': 'Device Type', 'type': 'Action Type'},\n",
    "                 size_max=20)       \n",
    "for i in range(len(device_action_counts)):\n",
    "    fig.add_annotation(\n",
    "        x=device_action_counts['type'][i],\n",
    "        y=device_action_counts['device'][i],\n",
    "        text=str(device_action_counts['count'][i]),\n",
    "        showarrow=True,\n",
    "        arrowhead=2,\n",
    "        ax=-20,\n",
    "        ay=-20,\n",
    "        font=dict(color=\"black\", size=10),\n",
    "        bgcolor=\"white\",\n",
    "        bordercolor=\"black\",\n",
    "        borderwidth=1,\n",
    "        borderpad=4\n",
    "    )\n",
    "\n",
    "fig.update_layout(\n",
    "    \n",
    "    title_font=dict(size=24, color='blue', family='Arial'),\n",
    "    xaxis_title_font=dict(size=18, color='black'),\n",
    "    yaxis_title_font=dict(size=18, color='black'),\n",
    "    legend_title_font=dict(size=16),\n",
    "    legend=dict(title='Device Type'),\n",
    "    template='plotly_white',  \n",
    ")\n",
    "fig.show()"
   ]
  },
  {
   "cell_type": "code",
   "execution_count": 124,
   "id": "fc1d3d59-4ec3-4cfc-9f69-34aff0035920",
   "metadata": {},
   "outputs": [
    {
     "data": {
      "application/vnd.plotly.v1+json": {
       "config": {
        "plotlyServerURL": "https://plot.ly"
       },
       "data": [
        {
         "coloraxis": "coloraxis",
         "geo": "geo",
         "hovertemplate": "<b>%{hovertext}</b><br><br>device=mobile<br>Country=%{location}<br>Number of Actions=%{z}<extra></extra>",
         "hovertext": [
          "mobile",
          "mobile",
          "mobile",
          "mobile",
          "mobile",
          "mobile",
          "mobile",
          "mobile",
          "mobile",
          "mobile",
          "mobile",
          "mobile",
          "mobile",
          "mobile",
          "mobile",
          "mobile",
          "mobile",
          "mobile",
          "mobile",
          "mobile",
          "mobile",
          "mobile",
          "mobile",
          "mobile",
          "mobile",
          "mobile",
          "mobile",
          "mobile",
          "mobile",
          "mobile",
          "mobile",
          "mobile",
          "mobile",
          "mobile",
          "mobile",
          "mobile",
          "mobile",
          "mobile",
          "mobile",
          "mobile",
          "mobile",
          "mobile",
          "mobile",
          "mobile",
          "mobile",
          "mobile",
          "mobile",
          "mobile",
          "mobile",
          "mobile",
          "mobile",
          "mobile",
          "mobile",
          "mobile",
          "mobile",
          "mobile",
          "mobile",
          "mobile",
          "mobile",
          "mobile",
          "mobile",
          "mobile",
          "mobile",
          "mobile",
          "mobile",
          "mobile",
          "mobile",
          "mobile",
          "mobile",
          "mobile",
          "mobile",
          "mobile",
          "mobile",
          "mobile",
          "mobile",
          "mobile",
          "mobile",
          "mobile",
          "mobile",
          "mobile",
          "mobile",
          "mobile",
          "mobile",
          "mobile",
          "mobile",
          "mobile",
          "mobile",
          "mobile",
          "mobile",
          "mobile",
          "mobile",
          "mobile",
          "mobile",
          "mobile",
          "mobile",
          "mobile",
          "mobile",
          "mobile",
          "mobile",
          "mobile",
          "mobile",
          "mobile",
          "mobile"
         ],
         "locationmode": "country names",
         "locations": [
          "Albania ",
          "Algeria ",
          "Argentina ",
          "Armenia",
          "Australia",
          "Austria",
          "Azerbaijan or Azerbaidjan (Former Azerbaijan Soviet Socialist Republic)",
          "Bahamas, Commonwealth of The",
          "Bahrain, Kingdom of (Former Dilmun)",
          "Bangladesh (Former East Pakistan)",
          "Belarus (Former Belorussian [Byelorussian] Soviet Socialist Republic)",
          "Belgium ",
          "Bolivia ",
          "Bosnia and Herzegovina ",
          "Brazil ",
          "Bulgaria ",
          "Canada ",
          "Chile ",
          "China ",
          "Colombia ",
          "Costa Rica ",
          "Croatia (Hrvatska) ",
          "Cyprus ",
          "Czech Republic",
          "Denmark ",
          "Dominican Republic ",
          "Ecuador ",
          "Egypt (Former United Arab Republic - with Syria)",
          "El Salvador ",
          "Finland ",
          "France ",
          "Georgia (Former Georgian Soviet Socialist Republic)",
          "Germany ",
          "Ghana (Former Gold Coast)",
          "Great Britain (United Kingdom) ",
          "Greece ",
          "Guatemala ",
          "Honduras ",
          "Hong Kong ",
          "Hungary ",
          "Iceland ",
          "India ",
          "Indonesia (Former Netherlands East Indies; Dutch East Indies)",
          "Iraq ",
          "Ireland ",
          "Israel ",
          "Italy ",
          "Jamaica ",
          "Japan ",
          "Jordan (Former Transjordan)",
          "Kazakstan or Kazakhstan (Former Kazakh Soviet Socialist Republic)",
          "Kenya (Former British East Africa)",
          "Korea, Republic of (South Korea) ",
          "Kuwait ",
          "Latvia (Former Latvian Soviet Socialist Republic)",
          "Lebanon ",
          "Lithuania (Former Lithuanian Soviet Socialist Republic)",
          "Luxembourg ",
          "Macau ",
          "Macedonia, The Former Yugoslav Republic of",
          "Malaysia ",
          "Mexico ",
          "Mongolia (Former Outer Mongolia)",
          "Morocco ",
          "Myanmar, Union of (Former Burma)",
          "Nepal ",
          "Netherlands ",
          "New Zealand (Aotearoa) ",
          "Nigeria ",
          "Norway ",
          "Oman, Sultanate of (Former Muscat and Oman)",
          "Pakistan (Former West Pakistan)",
          "Palestinian State (Proposed)",
          "Paraguay ",
          "Peru ",
          "Philippines ",
          "Poland ",
          "Portugal ",
          "Puerto Rico ",
          "Qatar, State of ",
          "Romania ",
          "Russian Federation ",
          "Saudi Arabia ",
          "Serbia, Republic of",
          "Singapore ",
          "Slovakia",
          "Slovenia ",
          "South Africa (Former Union of South Africa)",
          "Spain ",
          "Sri Lanka (Former Serendib, Ceylon) ",
          "Sweden ",
          "Switzerland ",
          "Taiwan (Former Formosa)",
          "Thailand (Former Siam)",
          "Trinidad and Tobago ",
          "Tunisia ",
          "Turkey ",
          "Ukraine (Former Ukrainian National Republic, Ukrainian State, Ukrainian Soviet Socialist Republic)",
          "United Arab Emirates (UAE) (Former Trucial Oman, Trucial States)",
          "United States ",
          "Uruguay, Oriental Republic of (Former Banda Oriental, Cisplatine Province)",
          "Venezuela ",
          "Vietnam "
         ],
         "name": "",
         "type": "choropleth",
         "z": [
          30,
          102,
          495,
          49,
          731,
          314,
          50,
          24,
          26,
          331,
          62,
          351,
          44,
          44,
          1746,
          261,
          10124,
          80,
          2067,
          864,
          76,
          235,
          72,
          532,
          428,
          95,
          97,
          315,
          60,
          298,
          1741,
          26,
          1868,
          48,
          4079,
          714,
          126,
          1,
          523,
          103,
          64,
          11476,
          935,
          72,
          911,
          480,
          1664,
          25,
          1735,
          35,
          82,
          14,
          1444,
          140,
          17,
          3,
          27,
          87,
          25,
          12,
          710,
          971,
          19,
          214,
          14,
          24,
          1336,
          153,
          102,
          360,
          29,
          455,
          36,
          78,
          675,
          345,
          1453,
          686,
          55,
          25,
          294,
          819,
          143,
          25,
          1166,
          137,
          113,
          218,
          2291,
          375,
          860,
          423,
          2128,
          593,
          24,
          49,
          1135,
          432,
          113,
          53967,
          62,
          24,
          464
         ]
        }
       ],
       "frames": [
        {
         "data": [
          {
           "coloraxis": "coloraxis",
           "geo": "geo",
           "hovertemplate": "<b>%{hovertext}</b><br><br>device=desktop<br>Country=%{location}<br>Number of Actions=%{z}<extra></extra>",
           "hovertext": [
            "desktop",
            "desktop",
            "desktop",
            "desktop",
            "desktop",
            "desktop",
            "desktop",
            "desktop",
            "desktop",
            "desktop",
            "desktop",
            "desktop",
            "desktop",
            "desktop",
            "desktop",
            "desktop",
            "desktop",
            "desktop",
            "desktop",
            "desktop",
            "desktop",
            "desktop",
            "desktop",
            "desktop",
            "desktop",
            "desktop",
            "desktop",
            "desktop",
            "desktop",
            "desktop",
            "desktop",
            "desktop",
            "desktop",
            "desktop",
            "desktop",
            "desktop",
            "desktop",
            "desktop",
            "desktop",
            "desktop",
            "desktop",
            "desktop",
            "desktop",
            "desktop",
            "desktop",
            "desktop",
            "desktop",
            "desktop",
            "desktop",
            "desktop",
            "desktop",
            "desktop",
            "desktop",
            "desktop",
            "desktop",
            "desktop",
            "desktop",
            "desktop",
            "desktop",
            "desktop",
            "desktop",
            "desktop",
            "desktop",
            "desktop",
            "desktop",
            "desktop",
            "desktop",
            "desktop",
            "desktop",
            "desktop",
            "desktop",
            "desktop",
            "desktop",
            "desktop",
            "desktop",
            "desktop",
            "desktop",
            "desktop",
            "desktop",
            "desktop",
            "desktop",
            "desktop",
            "desktop",
            "desktop",
            "desktop",
            "desktop",
            "desktop",
            "desktop",
            "desktop",
            "desktop",
            "desktop",
            "desktop",
            "desktop",
            "desktop",
            "desktop",
            "desktop",
            "desktop",
            "desktop",
            "desktop",
            "desktop",
            "desktop",
            "desktop",
            "desktop",
            "desktop"
           ],
           "locationmode": "country names",
           "locations": [
            "Albania ",
            "Algeria ",
            "Argentina ",
            "Australia",
            "Austria",
            "Azerbaijan or Azerbaidjan (Former Azerbaijan Soviet Socialist Republic)",
            "Bahamas, Commonwealth of The",
            "Bahrain, Kingdom of (Former Dilmun)",
            "Bangladesh (Former East Pakistan)",
            "Belarus (Former Belorussian [Byelorussian] Soviet Socialist Republic)",
            "Belgium ",
            "Bolivia ",
            "Bosnia and Herzegovina ",
            "Brazil ",
            "Bulgaria ",
            "Cambodia, Kingdom of (Former Khmer Republic, Kampuchea Republic)",
            "Canada ",
            "Chile ",
            "China ",
            "Colombia ",
            "Costa Rica ",
            "Croatia (Hrvatska) ",
            "Cyprus ",
            "Czech Republic",
            "Denmark ",
            "Dominican Republic ",
            "Ecuador ",
            "Egypt (Former United Arab Republic - with Syria)",
            "El Salvador ",
            "Estonia (Former Estonian Soviet Socialist Republic)",
            "Finland ",
            "France ",
            "Georgia (Former Georgian Soviet Socialist Republic)",
            "Germany ",
            "Ghana (Former Gold Coast)",
            "Great Britain (United Kingdom) ",
            "Greece ",
            "Guatemala ",
            "Honduras ",
            "Hong Kong ",
            "Hungary ",
            "Iceland ",
            "India ",
            "Indonesia (Former Netherlands East Indies; Dutch East Indies)",
            "Iraq ",
            "Ireland ",
            "Israel ",
            "Italy ",
            "Jamaica ",
            "Japan ",
            "Jordan (Former Transjordan)",
            "Kazakstan or Kazakhstan (Former Kazakh Soviet Socialist Republic)",
            "Kenya (Former British East Africa)",
            "Korea, Republic of (South Korea) ",
            "Kuwait ",
            "Latvia (Former Latvian Soviet Socialist Republic)",
            "Lebanon ",
            "Lithuania (Former Lithuanian Soviet Socialist Republic)",
            "Luxembourg ",
            "Macau ",
            "Macedonia, The Former Yugoslav Republic of",
            "Malaysia ",
            "Malta ",
            "Mexico ",
            "Mongolia (Former Outer Mongolia)",
            "Morocco ",
            "Nepal ",
            "Netherlands ",
            "New Zealand (Aotearoa) ",
            "Nigeria ",
            "Norway ",
            "Oman, Sultanate of (Former Muscat and Oman)",
            "Pakistan (Former West Pakistan)",
            "Palestinian State (Proposed)",
            "Panama ",
            "Paraguay ",
            "Peru ",
            "Philippines ",
            "Poland ",
            "Portugal ",
            "Puerto Rico ",
            "Qatar, State of ",
            "Romania ",
            "Russian Federation ",
            "Saudi Arabia ",
            "Serbia, Republic of",
            "Singapore ",
            "Slovakia",
            "Slovenia ",
            "South Africa (Former Union of South Africa)",
            "Spain ",
            "Sri Lanka (Former Serendib, Ceylon) ",
            "Sweden ",
            "Switzerland ",
            "Taiwan (Former Formosa)",
            "Thailand (Former Siam)",
            "Tunisia ",
            "Turkey ",
            "Ukraine (Former Ukrainian National Republic, Ukrainian State, Ukrainian Soviet Socialist Republic)",
            "United Arab Emirates (UAE) (Former Trucial Oman, Trucial States)",
            "United States ",
            "Uruguay, Oriental Republic of (Former Banda Oriental, Cisplatine Province)",
            "Venezuela ",
            "Vietnam "
           ],
           "name": "",
           "type": "choropleth",
           "z": [
            26,
            169,
            346,
            1862,
            603,
            48,
            13,
            41,
            663,
            109,
            949,
            13,
            13,
            1340,
            125,
            76,
            13814,
            346,
            3338,
            651,
            60,
            146,
            92,
            292,
            577,
            271,
            99,
            222,
            125,
            32,
            205,
            4041,
            30,
            2988,
            37,
            5163,
            545,
            116,
            24,
            1040,
            235,
            33,
            15888,
            1294,
            273,
            1009,
            724,
            3034,
            26,
            2156,
            40,
            165,
            30,
            1998,
            82,
            27,
            4,
            70,
            13,
            16,
            114,
            956,
            42,
            1709,
            86,
            438,
            1,
            1913,
            204,
            177,
            273,
            14,
            439,
            51,
            127,
            37,
            952,
            756,
            1954,
            478,
            129,
            166,
            213,
            1146,
            486,
            119,
            2673,
            120,
            183,
            185,
            3810,
            358,
            686,
            1367,
            3089,
            623,
            187,
            1839,
            772,
            512,
            80069,
            180,
            25,
            612
           ]
          }
         ],
         "name": "desktop"
        },
        {
         "data": [
          {
           "coloraxis": "coloraxis",
           "geo": "geo",
           "hovertemplate": "<b>%{hovertext}</b><br><br>device=mobile<br>Country=%{location}<br>Number of Actions=%{z}<extra></extra>",
           "hovertext": [
            "mobile",
            "mobile",
            "mobile",
            "mobile",
            "mobile",
            "mobile",
            "mobile",
            "mobile",
            "mobile",
            "mobile",
            "mobile",
            "mobile",
            "mobile",
            "mobile",
            "mobile",
            "mobile",
            "mobile",
            "mobile",
            "mobile",
            "mobile",
            "mobile",
            "mobile",
            "mobile",
            "mobile",
            "mobile",
            "mobile",
            "mobile",
            "mobile",
            "mobile",
            "mobile",
            "mobile",
            "mobile",
            "mobile",
            "mobile",
            "mobile",
            "mobile",
            "mobile",
            "mobile",
            "mobile",
            "mobile",
            "mobile",
            "mobile",
            "mobile",
            "mobile",
            "mobile",
            "mobile",
            "mobile",
            "mobile",
            "mobile",
            "mobile",
            "mobile",
            "mobile",
            "mobile",
            "mobile",
            "mobile",
            "mobile",
            "mobile",
            "mobile",
            "mobile",
            "mobile",
            "mobile",
            "mobile",
            "mobile",
            "mobile",
            "mobile",
            "mobile",
            "mobile",
            "mobile",
            "mobile",
            "mobile",
            "mobile",
            "mobile",
            "mobile",
            "mobile",
            "mobile",
            "mobile",
            "mobile",
            "mobile",
            "mobile",
            "mobile",
            "mobile",
            "mobile",
            "mobile",
            "mobile",
            "mobile",
            "mobile",
            "mobile",
            "mobile",
            "mobile",
            "mobile",
            "mobile",
            "mobile",
            "mobile",
            "mobile",
            "mobile",
            "mobile",
            "mobile",
            "mobile",
            "mobile",
            "mobile",
            "mobile",
            "mobile",
            "mobile"
           ],
           "locationmode": "country names",
           "locations": [
            "Albania ",
            "Algeria ",
            "Argentina ",
            "Armenia",
            "Australia",
            "Austria",
            "Azerbaijan or Azerbaidjan (Former Azerbaijan Soviet Socialist Republic)",
            "Bahamas, Commonwealth of The",
            "Bahrain, Kingdom of (Former Dilmun)",
            "Bangladesh (Former East Pakistan)",
            "Belarus (Former Belorussian [Byelorussian] Soviet Socialist Republic)",
            "Belgium ",
            "Bolivia ",
            "Bosnia and Herzegovina ",
            "Brazil ",
            "Bulgaria ",
            "Canada ",
            "Chile ",
            "China ",
            "Colombia ",
            "Costa Rica ",
            "Croatia (Hrvatska) ",
            "Cyprus ",
            "Czech Republic",
            "Denmark ",
            "Dominican Republic ",
            "Ecuador ",
            "Egypt (Former United Arab Republic - with Syria)",
            "El Salvador ",
            "Finland ",
            "France ",
            "Georgia (Former Georgian Soviet Socialist Republic)",
            "Germany ",
            "Ghana (Former Gold Coast)",
            "Great Britain (United Kingdom) ",
            "Greece ",
            "Guatemala ",
            "Honduras ",
            "Hong Kong ",
            "Hungary ",
            "Iceland ",
            "India ",
            "Indonesia (Former Netherlands East Indies; Dutch East Indies)",
            "Iraq ",
            "Ireland ",
            "Israel ",
            "Italy ",
            "Jamaica ",
            "Japan ",
            "Jordan (Former Transjordan)",
            "Kazakstan or Kazakhstan (Former Kazakh Soviet Socialist Republic)",
            "Kenya (Former British East Africa)",
            "Korea, Republic of (South Korea) ",
            "Kuwait ",
            "Latvia (Former Latvian Soviet Socialist Republic)",
            "Lebanon ",
            "Lithuania (Former Lithuanian Soviet Socialist Republic)",
            "Luxembourg ",
            "Macau ",
            "Macedonia, The Former Yugoslav Republic of",
            "Malaysia ",
            "Mexico ",
            "Mongolia (Former Outer Mongolia)",
            "Morocco ",
            "Myanmar, Union of (Former Burma)",
            "Nepal ",
            "Netherlands ",
            "New Zealand (Aotearoa) ",
            "Nigeria ",
            "Norway ",
            "Oman, Sultanate of (Former Muscat and Oman)",
            "Pakistan (Former West Pakistan)",
            "Palestinian State (Proposed)",
            "Paraguay ",
            "Peru ",
            "Philippines ",
            "Poland ",
            "Portugal ",
            "Puerto Rico ",
            "Qatar, State of ",
            "Romania ",
            "Russian Federation ",
            "Saudi Arabia ",
            "Serbia, Republic of",
            "Singapore ",
            "Slovakia",
            "Slovenia ",
            "South Africa (Former Union of South Africa)",
            "Spain ",
            "Sri Lanka (Former Serendib, Ceylon) ",
            "Sweden ",
            "Switzerland ",
            "Taiwan (Former Formosa)",
            "Thailand (Former Siam)",
            "Trinidad and Tobago ",
            "Tunisia ",
            "Turkey ",
            "Ukraine (Former Ukrainian National Republic, Ukrainian State, Ukrainian Soviet Socialist Republic)",
            "United Arab Emirates (UAE) (Former Trucial Oman, Trucial States)",
            "United States ",
            "Uruguay, Oriental Republic of (Former Banda Oriental, Cisplatine Province)",
            "Venezuela ",
            "Vietnam "
           ],
           "name": "",
           "type": "choropleth",
           "z": [
            30,
            102,
            495,
            49,
            731,
            314,
            50,
            24,
            26,
            331,
            62,
            351,
            44,
            44,
            1746,
            261,
            10124,
            80,
            2067,
            864,
            76,
            235,
            72,
            532,
            428,
            95,
            97,
            315,
            60,
            298,
            1741,
            26,
            1868,
            48,
            4079,
            714,
            126,
            1,
            523,
            103,
            64,
            11476,
            935,
            72,
            911,
            480,
            1664,
            25,
            1735,
            35,
            82,
            14,
            1444,
            140,
            17,
            3,
            27,
            87,
            25,
            12,
            710,
            971,
            19,
            214,
            14,
            24,
            1336,
            153,
            102,
            360,
            29,
            455,
            36,
            78,
            675,
            345,
            1453,
            686,
            55,
            25,
            294,
            819,
            143,
            25,
            1166,
            137,
            113,
            218,
            2291,
            375,
            860,
            423,
            2128,
            593,
            24,
            49,
            1135,
            432,
            113,
            53967,
            62,
            24,
            464
           ]
          }
         ],
         "name": "mobile"
        },
        {
         "data": [
          {
           "coloraxis": "coloraxis",
           "geo": "geo",
           "hovertemplate": "<b>%{hovertext}</b><br><br>device=tablet<br>Country=%{location}<br>Number of Actions=%{z}<extra></extra>",
           "hovertext": [
            "tablet",
            "tablet",
            "tablet",
            "tablet",
            "tablet",
            "tablet",
            "tablet",
            "tablet",
            "tablet",
            "tablet",
            "tablet",
            "tablet",
            "tablet",
            "tablet",
            "tablet",
            "tablet",
            "tablet",
            "tablet",
            "tablet",
            "tablet",
            "tablet",
            "tablet",
            "tablet",
            "tablet",
            "tablet",
            "tablet",
            "tablet",
            "tablet",
            "tablet",
            "tablet",
            "tablet",
            "tablet",
            "tablet",
            "tablet",
            "tablet",
            "tablet",
            "tablet",
            "tablet",
            "tablet",
            "tablet",
            "tablet",
            "tablet",
            "tablet",
            "tablet",
            "tablet",
            "tablet",
            "tablet",
            "tablet"
           ],
           "locationmode": "country names",
           "locations": [
            "Albania ",
            "Australia",
            "Austria",
            "Brazil ",
            "Bulgaria ",
            "Canada ",
            "Chile ",
            "China ",
            "Croatia (Hrvatska) ",
            "Czech Republic",
            "Denmark ",
            "Finland ",
            "France ",
            "Germany ",
            "Great Britain (United Kingdom) ",
            "Hong Kong ",
            "India ",
            "Indonesia (Former Netherlands East Indies; Dutch East Indies)",
            "Ireland ",
            "Israel ",
            "Italy ",
            "Japan ",
            "Korea, Republic of (South Korea) ",
            "Lebanon ",
            "Malaysia ",
            "Mexico ",
            "Mongolia (Former Outer Mongolia)",
            "Morocco ",
            "Nepal ",
            "Netherlands ",
            "Pakistan (Former West Pakistan)",
            "Palestinian State (Proposed)",
            "Philippines ",
            "Poland ",
            "Romania ",
            "Russian Federation ",
            "Singapore ",
            "Spain ",
            "Sweden ",
            "Switzerland ",
            "Taiwan (Former Formosa)",
            "Thailand (Former Siam)",
            "Turkey ",
            "Ukraine (Former Ukrainian National Republic, Ukrainian State, Ukrainian Soviet Socialist Republic)",
            "United Arab Emirates (UAE) (Former Trucial Oman, Trucial States)",
            "United States ",
            "Uruguay, Oriental Republic of (Former Banda Oriental, Cisplatine Province)",
            "Vietnam "
           ],
           "name": "",
           "type": "choropleth",
           "z": [
            13,
            14,
            27,
            94,
            12,
            515,
            35,
            74,
            1,
            5,
            12,
            23,
            53,
            130,
            211,
            68,
            483,
            65,
            42,
            12,
            60,
            53,
            104,
            13,
            14,
            170,
            1,
            4,
            12,
            188,
            1,
            68,
            172,
            12,
            48,
            27,
            195,
            116,
            50,
            2,
            93,
            106,
            26,
            1,
            30,
            3022,
            86,
            15
           ]
          }
         ],
         "name": "tablet"
        }
       ],
       "layout": {
        "coloraxis": {
         "colorbar": {
          "title": {
           "text": "Number of Actions"
          }
         },
         "colorscale": [
          [
           0,
           "#0d0887"
          ],
          [
           0.1111111111111111,
           "#46039f"
          ],
          [
           0.2222222222222222,
           "#7201a8"
          ],
          [
           0.3333333333333333,
           "#9c179e"
          ],
          [
           0.4444444444444444,
           "#bd3786"
          ],
          [
           0.5555555555555556,
           "#d8576b"
          ],
          [
           0.6666666666666666,
           "#ed7953"
          ],
          [
           0.7777777777777778,
           "#fb9f3a"
          ],
          [
           0.8888888888888888,
           "#fdca26"
          ],
          [
           1,
           "#f0f921"
          ]
         ]
        },
        "geo": {
         "center": {
          "lat": 7.703361532885623,
          "lon": -55.61636071859182
         },
         "coastlinecolor": "Black",
         "domain": {
          "x": [
           0,
           1
          ],
          "y": [
           0,
           1
          ]
         },
         "projection": {
          "rotation": {
           "lon": -55.61636071859182
          },
          "scale": 3.163851739125539,
          "type": "natural earth"
         },
         "showcoastlines": true
        },
        "height": 600,
        "legend": {
         "tracegroupgap": 0
        },
        "sliders": [
         {
          "active": 1,
          "currentvalue": {
           "prefix": "device="
          },
          "len": 0.9,
          "pad": {
           "b": 10,
           "t": 60
          },
          "steps": [
           {
            "args": [
             [
              "desktop"
             ],
             {
              "frame": {
               "duration": 0,
               "redraw": true
              },
              "fromcurrent": true,
              "mode": "immediate",
              "transition": {
               "duration": 0,
               "easing": "linear"
              }
             }
            ],
            "label": "desktop",
            "method": "animate"
           },
           {
            "args": [
             [
              "mobile"
             ],
             {
              "frame": {
               "duration": 0,
               "redraw": true
              },
              "fromcurrent": true,
              "mode": "immediate",
              "transition": {
               "duration": 0,
               "easing": "linear"
              }
             }
            ],
            "label": "mobile",
            "method": "animate"
           },
           {
            "args": [
             [
              "tablet"
             ],
             {
              "frame": {
               "duration": 0,
               "redraw": true
              },
              "fromcurrent": true,
              "mode": "immediate",
              "transition": {
               "duration": 0,
               "easing": "linear"
              }
             }
            ],
            "label": "tablet",
            "method": "animate"
           }
          ],
          "x": 0.1,
          "xanchor": "left",
          "y": 0,
          "yanchor": "top"
         }
        ],
        "template": {
         "data": {
          "bar": [
           {
            "error_x": {
             "color": "#2a3f5f"
            },
            "error_y": {
             "color": "#2a3f5f"
            },
            "marker": {
             "line": {
              "color": "#E5ECF6",
              "width": 0.5
             },
             "pattern": {
              "fillmode": "overlay",
              "size": 10,
              "solidity": 0.2
             }
            },
            "type": "bar"
           }
          ],
          "barpolar": [
           {
            "marker": {
             "line": {
              "color": "#E5ECF6",
              "width": 0.5
             },
             "pattern": {
              "fillmode": "overlay",
              "size": 10,
              "solidity": 0.2
             }
            },
            "type": "barpolar"
           }
          ],
          "carpet": [
           {
            "aaxis": {
             "endlinecolor": "#2a3f5f",
             "gridcolor": "white",
             "linecolor": "white",
             "minorgridcolor": "white",
             "startlinecolor": "#2a3f5f"
            },
            "baxis": {
             "endlinecolor": "#2a3f5f",
             "gridcolor": "white",
             "linecolor": "white",
             "minorgridcolor": "white",
             "startlinecolor": "#2a3f5f"
            },
            "type": "carpet"
           }
          ],
          "choropleth": [
           {
            "colorbar": {
             "outlinewidth": 0,
             "ticks": ""
            },
            "type": "choropleth"
           }
          ],
          "contour": [
           {
            "colorbar": {
             "outlinewidth": 0,
             "ticks": ""
            },
            "colorscale": [
             [
              0,
              "#0d0887"
             ],
             [
              0.1111111111111111,
              "#46039f"
             ],
             [
              0.2222222222222222,
              "#7201a8"
             ],
             [
              0.3333333333333333,
              "#9c179e"
             ],
             [
              0.4444444444444444,
              "#bd3786"
             ],
             [
              0.5555555555555556,
              "#d8576b"
             ],
             [
              0.6666666666666666,
              "#ed7953"
             ],
             [
              0.7777777777777778,
              "#fb9f3a"
             ],
             [
              0.8888888888888888,
              "#fdca26"
             ],
             [
              1,
              "#f0f921"
             ]
            ],
            "type": "contour"
           }
          ],
          "contourcarpet": [
           {
            "colorbar": {
             "outlinewidth": 0,
             "ticks": ""
            },
            "type": "contourcarpet"
           }
          ],
          "heatmap": [
           {
            "colorbar": {
             "outlinewidth": 0,
             "ticks": ""
            },
            "colorscale": [
             [
              0,
              "#0d0887"
             ],
             [
              0.1111111111111111,
              "#46039f"
             ],
             [
              0.2222222222222222,
              "#7201a8"
             ],
             [
              0.3333333333333333,
              "#9c179e"
             ],
             [
              0.4444444444444444,
              "#bd3786"
             ],
             [
              0.5555555555555556,
              "#d8576b"
             ],
             [
              0.6666666666666666,
              "#ed7953"
             ],
             [
              0.7777777777777778,
              "#fb9f3a"
             ],
             [
              0.8888888888888888,
              "#fdca26"
             ],
             [
              1,
              "#f0f921"
             ]
            ],
            "type": "heatmap"
           }
          ],
          "heatmapgl": [
           {
            "colorbar": {
             "outlinewidth": 0,
             "ticks": ""
            },
            "colorscale": [
             [
              0,
              "#0d0887"
             ],
             [
              0.1111111111111111,
              "#46039f"
             ],
             [
              0.2222222222222222,
              "#7201a8"
             ],
             [
              0.3333333333333333,
              "#9c179e"
             ],
             [
              0.4444444444444444,
              "#bd3786"
             ],
             [
              0.5555555555555556,
              "#d8576b"
             ],
             [
              0.6666666666666666,
              "#ed7953"
             ],
             [
              0.7777777777777778,
              "#fb9f3a"
             ],
             [
              0.8888888888888888,
              "#fdca26"
             ],
             [
              1,
              "#f0f921"
             ]
            ],
            "type": "heatmapgl"
           }
          ],
          "histogram": [
           {
            "marker": {
             "pattern": {
              "fillmode": "overlay",
              "size": 10,
              "solidity": 0.2
             }
            },
            "type": "histogram"
           }
          ],
          "histogram2d": [
           {
            "colorbar": {
             "outlinewidth": 0,
             "ticks": ""
            },
            "colorscale": [
             [
              0,
              "#0d0887"
             ],
             [
              0.1111111111111111,
              "#46039f"
             ],
             [
              0.2222222222222222,
              "#7201a8"
             ],
             [
              0.3333333333333333,
              "#9c179e"
             ],
             [
              0.4444444444444444,
              "#bd3786"
             ],
             [
              0.5555555555555556,
              "#d8576b"
             ],
             [
              0.6666666666666666,
              "#ed7953"
             ],
             [
              0.7777777777777778,
              "#fb9f3a"
             ],
             [
              0.8888888888888888,
              "#fdca26"
             ],
             [
              1,
              "#f0f921"
             ]
            ],
            "type": "histogram2d"
           }
          ],
          "histogram2dcontour": [
           {
            "colorbar": {
             "outlinewidth": 0,
             "ticks": ""
            },
            "colorscale": [
             [
              0,
              "#0d0887"
             ],
             [
              0.1111111111111111,
              "#46039f"
             ],
             [
              0.2222222222222222,
              "#7201a8"
             ],
             [
              0.3333333333333333,
              "#9c179e"
             ],
             [
              0.4444444444444444,
              "#bd3786"
             ],
             [
              0.5555555555555556,
              "#d8576b"
             ],
             [
              0.6666666666666666,
              "#ed7953"
             ],
             [
              0.7777777777777778,
              "#fb9f3a"
             ],
             [
              0.8888888888888888,
              "#fdca26"
             ],
             [
              1,
              "#f0f921"
             ]
            ],
            "type": "histogram2dcontour"
           }
          ],
          "mesh3d": [
           {
            "colorbar": {
             "outlinewidth": 0,
             "ticks": ""
            },
            "type": "mesh3d"
           }
          ],
          "parcoords": [
           {
            "line": {
             "colorbar": {
              "outlinewidth": 0,
              "ticks": ""
             }
            },
            "type": "parcoords"
           }
          ],
          "pie": [
           {
            "automargin": true,
            "type": "pie"
           }
          ],
          "scatter": [
           {
            "fillpattern": {
             "fillmode": "overlay",
             "size": 10,
             "solidity": 0.2
            },
            "type": "scatter"
           }
          ],
          "scatter3d": [
           {
            "line": {
             "colorbar": {
              "outlinewidth": 0,
              "ticks": ""
             }
            },
            "marker": {
             "colorbar": {
              "outlinewidth": 0,
              "ticks": ""
             }
            },
            "type": "scatter3d"
           }
          ],
          "scattercarpet": [
           {
            "marker": {
             "colorbar": {
              "outlinewidth": 0,
              "ticks": ""
             }
            },
            "type": "scattercarpet"
           }
          ],
          "scattergeo": [
           {
            "marker": {
             "colorbar": {
              "outlinewidth": 0,
              "ticks": ""
             }
            },
            "type": "scattergeo"
           }
          ],
          "scattergl": [
           {
            "marker": {
             "colorbar": {
              "outlinewidth": 0,
              "ticks": ""
             }
            },
            "type": "scattergl"
           }
          ],
          "scattermapbox": [
           {
            "marker": {
             "colorbar": {
              "outlinewidth": 0,
              "ticks": ""
             }
            },
            "type": "scattermapbox"
           }
          ],
          "scatterpolar": [
           {
            "marker": {
             "colorbar": {
              "outlinewidth": 0,
              "ticks": ""
             }
            },
            "type": "scatterpolar"
           }
          ],
          "scatterpolargl": [
           {
            "marker": {
             "colorbar": {
              "outlinewidth": 0,
              "ticks": ""
             }
            },
            "type": "scatterpolargl"
           }
          ],
          "scatterternary": [
           {
            "marker": {
             "colorbar": {
              "outlinewidth": 0,
              "ticks": ""
             }
            },
            "type": "scatterternary"
           }
          ],
          "surface": [
           {
            "colorbar": {
             "outlinewidth": 0,
             "ticks": ""
            },
            "colorscale": [
             [
              0,
              "#0d0887"
             ],
             [
              0.1111111111111111,
              "#46039f"
             ],
             [
              0.2222222222222222,
              "#7201a8"
             ],
             [
              0.3333333333333333,
              "#9c179e"
             ],
             [
              0.4444444444444444,
              "#bd3786"
             ],
             [
              0.5555555555555556,
              "#d8576b"
             ],
             [
              0.6666666666666666,
              "#ed7953"
             ],
             [
              0.7777777777777778,
              "#fb9f3a"
             ],
             [
              0.8888888888888888,
              "#fdca26"
             ],
             [
              1,
              "#f0f921"
             ]
            ],
            "type": "surface"
           }
          ],
          "table": [
           {
            "cells": {
             "fill": {
              "color": "#EBF0F8"
             },
             "line": {
              "color": "white"
             }
            },
            "header": {
             "fill": {
              "color": "#C8D4E3"
             },
             "line": {
              "color": "white"
             }
            },
            "type": "table"
           }
          ]
         },
         "layout": {
          "annotationdefaults": {
           "arrowcolor": "#2a3f5f",
           "arrowhead": 0,
           "arrowwidth": 1
          },
          "autotypenumbers": "strict",
          "coloraxis": {
           "colorbar": {
            "outlinewidth": 0,
            "ticks": ""
           }
          },
          "colorscale": {
           "diverging": [
            [
             0,
             "#8e0152"
            ],
            [
             0.1,
             "#c51b7d"
            ],
            [
             0.2,
             "#de77ae"
            ],
            [
             0.3,
             "#f1b6da"
            ],
            [
             0.4,
             "#fde0ef"
            ],
            [
             0.5,
             "#f7f7f7"
            ],
            [
             0.6,
             "#e6f5d0"
            ],
            [
             0.7,
             "#b8e186"
            ],
            [
             0.8,
             "#7fbc41"
            ],
            [
             0.9,
             "#4d9221"
            ],
            [
             1,
             "#276419"
            ]
           ],
           "sequential": [
            [
             0,
             "#0d0887"
            ],
            [
             0.1111111111111111,
             "#46039f"
            ],
            [
             0.2222222222222222,
             "#7201a8"
            ],
            [
             0.3333333333333333,
             "#9c179e"
            ],
            [
             0.4444444444444444,
             "#bd3786"
            ],
            [
             0.5555555555555556,
             "#d8576b"
            ],
            [
             0.6666666666666666,
             "#ed7953"
            ],
            [
             0.7777777777777778,
             "#fb9f3a"
            ],
            [
             0.8888888888888888,
             "#fdca26"
            ],
            [
             1,
             "#f0f921"
            ]
           ],
           "sequentialminus": [
            [
             0,
             "#0d0887"
            ],
            [
             0.1111111111111111,
             "#46039f"
            ],
            [
             0.2222222222222222,
             "#7201a8"
            ],
            [
             0.3333333333333333,
             "#9c179e"
            ],
            [
             0.4444444444444444,
             "#bd3786"
            ],
            [
             0.5555555555555556,
             "#d8576b"
            ],
            [
             0.6666666666666666,
             "#ed7953"
            ],
            [
             0.7777777777777778,
             "#fb9f3a"
            ],
            [
             0.8888888888888888,
             "#fdca26"
            ],
            [
             1,
             "#f0f921"
            ]
           ]
          },
          "colorway": [
           "#636efa",
           "#EF553B",
           "#00cc96",
           "#ab63fa",
           "#FFA15A",
           "#19d3f3",
           "#FF6692",
           "#B6E880",
           "#FF97FF",
           "#FECB52"
          ],
          "font": {
           "color": "#2a3f5f"
          },
          "geo": {
           "bgcolor": "white",
           "lakecolor": "white",
           "landcolor": "#E5ECF6",
           "showlakes": true,
           "showland": true,
           "subunitcolor": "white"
          },
          "hoverlabel": {
           "align": "left"
          },
          "hovermode": "closest",
          "mapbox": {
           "style": "light"
          },
          "paper_bgcolor": "white",
          "plot_bgcolor": "#E5ECF6",
          "polar": {
           "angularaxis": {
            "gridcolor": "white",
            "linecolor": "white",
            "ticks": ""
           },
           "bgcolor": "#E5ECF6",
           "radialaxis": {
            "gridcolor": "white",
            "linecolor": "white",
            "ticks": ""
           }
          },
          "scene": {
           "xaxis": {
            "backgroundcolor": "#E5ECF6",
            "gridcolor": "white",
            "gridwidth": 2,
            "linecolor": "white",
            "showbackground": true,
            "ticks": "",
            "zerolinecolor": "white"
           },
           "yaxis": {
            "backgroundcolor": "#E5ECF6",
            "gridcolor": "white",
            "gridwidth": 2,
            "linecolor": "white",
            "showbackground": true,
            "ticks": "",
            "zerolinecolor": "white"
           },
           "zaxis": {
            "backgroundcolor": "#E5ECF6",
            "gridcolor": "white",
            "gridwidth": 2,
            "linecolor": "white",
            "showbackground": true,
            "ticks": "",
            "zerolinecolor": "white"
           }
          },
          "shapedefaults": {
           "line": {
            "color": "#2a3f5f"
           }
          },
          "ternary": {
           "aaxis": {
            "gridcolor": "white",
            "linecolor": "white",
            "ticks": ""
           },
           "baxis": {
            "gridcolor": "white",
            "linecolor": "white",
            "ticks": ""
           },
           "bgcolor": "#E5ECF6",
           "caxis": {
            "gridcolor": "white",
            "linecolor": "white",
            "ticks": ""
           }
          },
          "title": {
           "x": 0.05
          },
          "xaxis": {
           "automargin": true,
           "gridcolor": "white",
           "linecolor": "white",
           "ticks": "",
           "title": {
            "standoff": 15
           },
           "zerolinecolor": "white",
           "zerolinewidth": 2
          },
          "yaxis": {
           "automargin": true,
           "gridcolor": "white",
           "linecolor": "white",
           "ticks": "",
           "title": {
            "standoff": 15
           },
           "zerolinecolor": "white",
           "zerolinewidth": 2
          }
         }
        },
        "title": {
         "font": {
          "color": "blue",
          "family": "Arial",
          "size": 24
         },
         "text": "Actions Performed by Device Type Worldwide"
        },
        "updatemenus": [
         {
          "active": 0,
          "buttons": [
           {
            "args": [
             null,
             {
              "frame": {
               "duration": 500,
               "redraw": true
              },
              "fromcurrent": true,
              "mode": "immediate",
              "transition": {
               "duration": 500,
               "easing": "linear"
              }
             }
            ],
            "label": "&#9654;",
            "method": "animate"
           },
           {
            "args": [
             [
              null
             ],
             {
              "frame": {
               "duration": 0,
               "redraw": true
              },
              "fromcurrent": true,
              "mode": "immediate",
              "transition": {
               "duration": 0,
               "easing": "linear"
              }
             }
            ],
            "label": "&#9724;",
            "method": "animate"
           }
          ],
          "direction": "left",
          "pad": {
           "r": 10,
           "t": 70
          },
          "showactive": false,
          "type": "buttons",
          "x": 0.1,
          "xanchor": "right",
          "y": 0,
          "yanchor": "top"
         }
        ],
        "width": 1000
       }
      },
      "image/png": "[encoded data removed]",
      "text/html": [
       "<div>                            <div id=\"4eb67024-b066-46cf-9e52-148d656496a1\" class=\"plotly-graph-div\" style=\"height:600px; width:1000px;\"></div>            <script type=\"text/javascript\">                require([\"plotly\"], function(Plotly) {                    window.PLOTLYENV=window.PLOTLYENV || {};                                    if (document.getElementById(\"4eb67024-b066-46cf-9e52-148d656496a1\")) {                    Plotly.newPlot(                        \"4eb67024-b066-46cf-9e52-148d656496a1\",                        [{\"coloraxis\":\"coloraxis\",\"geo\":\"geo\",\"hovertemplate\":\"\\u003cb\\u003e%{hovertext}\\u003c\\u002fb\\u003e\\u003cbr\\u003e\\u003cbr\\u003edevice=desktop\\u003cbr\\u003eCountry=%{location}\\u003cbr\\u003eNumber of Actions=%{z}\\u003cextra\\u003e\\u003c\\u002fextra\\u003e\",\"hovertext\":[\"desktop\",\"desktop\",\"desktop\",\"desktop\",\"desktop\",\"desktop\",\"desktop\",\"desktop\",\"desktop\",\"desktop\",\"desktop\",\"desktop\",\"desktop\",\"desktop\",\"desktop\",\"desktop\",\"desktop\",\"desktop\",\"desktop\",\"desktop\",\"desktop\",\"desktop\",\"desktop\",\"desktop\",\"desktop\",\"desktop\",\"desktop\",\"desktop\",\"desktop\",\"desktop\",\"desktop\",\"desktop\",\"desktop\",\"desktop\",\"desktop\",\"desktop\",\"desktop\",\"desktop\",\"desktop\",\"desktop\",\"desktop\",\"desktop\",\"desktop\",\"desktop\",\"desktop\",\"desktop\",\"desktop\",\"desktop\",\"desktop\",\"desktop\",\"desktop\",\"desktop\",\"desktop\",\"desktop\",\"desktop\",\"desktop\",\"desktop\",\"desktop\",\"desktop\",\"desktop\",\"desktop\",\"desktop\",\"desktop\",\"desktop\",\"desktop\",\"desktop\",\"desktop\",\"desktop\",\"desktop\",\"desktop\",\"desktop\",\"desktop\",\"desktop\",\"desktop\",\"desktop\",\"desktop\",\"desktop\",\"desktop\",\"desktop\",\"desktop\",\"desktop\",\"desktop\",\"desktop\",\"desktop\",\"desktop\",\"desktop\",\"desktop\",\"desktop\",\"desktop\",\"desktop\",\"desktop\",\"desktop\",\"desktop\",\"desktop\",\"desktop\",\"desktop\",\"desktop\",\"desktop\",\"desktop\",\"desktop\",\"desktop\",\"desktop\",\"desktop\",\"desktop\"],\"locationmode\":\"country names\",\"locations\":[\"Albania \",\"Algeria \",\"Argentina \",\"Australia\",\"Austria\",\"Azerbaijan or Azerbaidjan (Former Azerbaijan Soviet Socialist Republic)\",\"Bahamas, Commonwealth of The\",\"Bahrain, Kingdom of (Former Dilmun)\",\"Bangladesh (Former East Pakistan)\",\"Belarus (Former Belorussian [Byelorussian] Soviet Socialist Republic)\",\"Belgium \",\"Bolivia \",\"Bosnia and Herzegovina \",\"Brazil \",\"Bulgaria \",\"Cambodia, Kingdom of (Former Khmer Republic, Kampuchea Republic)\",\"Canada \",\"Chile \",\"China \",\"Colombia \",\"Costa Rica \",\"Croatia (Hrvatska) \",\"Cyprus \",\"Czech Republic\",\"Denmark \",\"Dominican Republic \",\"Ecuador \",\"Egypt (Former United Arab Republic - with Syria)\",\"El Salvador \",\"Estonia (Former Estonian Soviet Socialist Republic)\",\"Finland \",\"France \",\"Georgia (Former Georgian Soviet Socialist Republic)\",\"Germany \",\"Ghana (Former Gold Coast)\",\"Great Britain (United Kingdom) \",\"Greece \",\"Guatemala \",\"Honduras \",\"Hong Kong \",\"Hungary \",\"Iceland \",\"India \",\"Indonesia (Former Netherlands East Indies; Dutch East Indies)\",\"Iraq \",\"Ireland \",\"Israel \",\"Italy \",\"Jamaica \",\"Japan \",\"Jordan (Former Transjordan)\",\"Kazakstan or Kazakhstan (Former Kazakh Soviet Socialist Republic)\",\"Kenya (Former British East Africa)\",\"Korea, Republic of (South Korea) \",\"Kuwait \",\"Latvia (Former Latvian Soviet Socialist Republic)\",\"Lebanon \",\"Lithuania (Former Lithuanian Soviet Socialist Republic)\",\"Luxembourg \",\"Macau \",\"Macedonia, The Former Yugoslav Republic of\",\"Malaysia \",\"Malta \",\"Mexico \",\"Mongolia (Former Outer Mongolia)\",\"Morocco \",\"Nepal \",\"Netherlands \",\"New Zealand (Aotearoa) \",\"Nigeria \",\"Norway \",\"Oman, Sultanate of (Former Muscat and Oman)\",\"Pakistan (Former West Pakistan)\",\"Palestinian State (Proposed)\",\"Panama \",\"Paraguay \",\"Peru \",\"Philippines \",\"Poland \",\"Portugal \",\"Puerto Rico \",\"Qatar, State of \",\"Romania \",\"Russian Federation \",\"Saudi Arabia \",\"Serbia, Republic of\",\"Singapore \",\"Slovakia\",\"Slovenia \",\"South Africa (Former Union of South Africa)\",\"Spain \",\"Sri Lanka (Former Serendib, Ceylon) \",\"Sweden \",\"Switzerland \",\"Taiwan (Former Formosa)\",\"Thailand (Former Siam)\",\"Tunisia \",\"Turkey \",\"Ukraine (Former Ukrainian National Republic, Ukrainian State, Ukrainian Soviet Socialist Republic)\",\"United Arab Emirates (UAE) (Former Trucial Oman, Trucial States)\",\"United States \",\"Uruguay, Oriental Republic of (Former Banda Oriental, Cisplatine Province)\",\"Venezuela \",\"Vietnam \"],\"name\":\"\",\"z\":[26,169,346,1862,603,48,13,41,663,109,949,13,13,1340,125,76,13814,346,3338,651,60,146,92,292,577,271,99,222,125,32,205,4041,30,2988,37,5163,545,116,24,1040,235,33,15888,1294,273,1009,724,3034,26,2156,40,165,30,1998,82,27,4,70,13,16,114,956,42,1709,86,438,1,1913,204,177,273,14,439,51,127,37,952,756,1954,478,129,166,213,1146,486,119,2673,120,183,185,3810,358,686,1367,3089,623,187,1839,772,512,80069,180,25,612],\"type\":\"choropleth\"}],                        {\"template\":{\"data\":{\"histogram2dcontour\":[{\"type\":\"histogram2dcontour\",\"colorbar\":{\"outlinewidth\":0,\"ticks\":\"\"},\"colorscale\":[[0.0,\"#0d0887\"],[0.1111111111111111,\"#46039f\"],[0.2222222222222222,\"#7201a8\"],[0.3333333333333333,\"#9c179e\"],[0.4444444444444444,\"#bd3786\"],[0.5555555555555556,\"#d8576b\"],[0.6666666666666666,\"#ed7953\"],[0.7777777777777778,\"#fb9f3a\"],[0.8888888888888888,\"#fdca26\"],[1.0,\"#f0f921\"]]}],\"choropleth\":[{\"type\":\"choropleth\",\"colorbar\":{\"outlinewidth\":0,\"ticks\":\"\"}}],\"histogram2d\":[{\"type\":\"histogram2d\",\"colorbar\":{\"outlinewidth\":0,\"ticks\":\"\"},\"colorscale\":[[0.0,\"#0d0887\"],[0.1111111111111111,\"#46039f\"],[0.2222222222222222,\"#7201a8\"],[0.3333333333333333,\"#9c179e\"],[0.4444444444444444,\"#bd3786\"],[0.5555555555555556,\"#d8576b\"],[0.6666666666666666,\"#ed7953\"],[0.7777777777777778,\"#fb9f3a\"],[0.8888888888888888,\"#fdca26\"],[1.0,\"#f0f921\"]]}],\"heatmap\":[{\"type\":\"heatmap\",\"colorbar\":{\"outlinewidth\":0,\"ticks\":\"\"},\"colorscale\":[[0.0,\"#0d0887\"],[0.1111111111111111,\"#46039f\"],[0.2222222222222222,\"#7201a8\"],[0.3333333333333333,\"#9c179e\"],[0.4444444444444444,\"#bd3786\"],[0.5555555555555556,\"#d8576b\"],[0.6666666666666666,\"#ed7953\"],[0.7777777777777778,\"#fb9f3a\"],[0.8888888888888888,\"#fdca26\"],[1.0,\"#f0f921\"]]}],\"heatmapgl\":[{\"type\":\"heatmapgl\",\"colorbar\":{\"outlinewidth\":0,\"ticks\":\"\"},\"colorscale\":[[0.0,\"#0d0887\"],[0.1111111111111111,\"#46039f\"],[0.2222222222222222,\"#7201a8\"],[0.3333333333333333,\"#9c179e\"],[0.4444444444444444,\"#bd3786\"],[0.5555555555555556,\"#d8576b\"],[0.6666666666666666,\"#ed7953\"],[0.7777777777777778,\"#fb9f3a\"],[0.8888888888888888,\"#fdca26\"],[1.0,\"#f0f921\"]]}],\"contourcarpet\":[{\"type\":\"contourcarpet\",\"colorbar\":{\"outlinewidth\":0,\"ticks\":\"\"}}],\"contour\":[{\"type\":\"contour\",\"colorbar\":{\"outlinewidth\":0,\"ticks\":\"\"},\"colorscale\":[[0.0,\"#0d0887\"],[0.1111111111111111,\"#46039f\"],[0.2222222222222222,\"#7201a8\"],[0.3333333333333333,\"#9c179e\"],[0.4444444444444444,\"#bd3786\"],[0.5555555555555556,\"#d8576b\"],[0.6666666666666666,\"#ed7953\"],[0.7777777777777778,\"#fb9f3a\"],[0.8888888888888888,\"#fdca26\"],[1.0,\"#f0f921\"]]}],\"surface\":[{\"type\":\"surface\",\"colorbar\":{\"outlinewidth\":0,\"ticks\":\"\"},\"colorscale\":[[0.0,\"#0d0887\"],[0.1111111111111111,\"#46039f\"],[0.2222222222222222,\"#7201a8\"],[0.3333333333333333,\"#9c179e\"],[0.4444444444444444,\"#bd3786\"],[0.5555555555555556,\"#d8576b\"],[0.6666666666666666,\"#ed7953\"],[0.7777777777777778,\"#fb9f3a\"],[0.8888888888888888,\"#fdca26\"],[1.0,\"#f0f921\"]]}],\"mesh3d\":[{\"type\":\"mesh3d\",\"colorbar\":{\"outlinewidth\":0,\"ticks\":\"\"}}],\"scatter\":[{\"fillpattern\":{\"fillmode\":\"overlay\",\"size\":10,\"solidity\":0.2},\"type\":\"scatter\"}],\"parcoords\":[{\"type\":\"parcoords\",\"line\":{\"colorbar\":{\"outlinewidth\":0,\"ticks\":\"\"}}}],\"scatterpolargl\":[{\"type\":\"scatterpolargl\",\"marker\":{\"colorbar\":{\"outlinewidth\":0,\"ticks\":\"\"}}}],\"bar\":[{\"error_x\":{\"color\":\"#2a3f5f\"},\"error_y\":{\"color\":\"#2a3f5f\"},\"marker\":{\"line\":{\"color\":\"#E5ECF6\",\"width\":0.5},\"pattern\":{\"fillmode\":\"overlay\",\"size\":10,\"solidity\":0.2}},\"type\":\"bar\"}],\"scattergeo\":[{\"type\":\"scattergeo\",\"marker\":{\"colorbar\":{\"outlinewidth\":0,\"ticks\":\"\"}}}],\"scatterpolar\":[{\"type\":\"scatterpolar\",\"marker\":{\"colorbar\":{\"outlinewidth\":0,\"ticks\":\"\"}}}],\"histogram\":[{\"marker\":{\"pattern\":{\"fillmode\":\"overlay\",\"size\":10,\"solidity\":0.2}},\"type\":\"histogram\"}],\"scattergl\":[{\"type\":\"scattergl\",\"marker\":{\"colorbar\":{\"outlinewidth\":0,\"ticks\":\"\"}}}],\"scatter3d\":[{\"type\":\"scatter3d\",\"line\":{\"colorbar\":{\"outlinewidth\":0,\"ticks\":\"\"}},\"marker\":{\"colorbar\":{\"outlinewidth\":0,\"ticks\":\"\"}}}],\"scattermapbox\":[{\"type\":\"scattermapbox\",\"marker\":{\"colorbar\":{\"outlinewidth\":0,\"ticks\":\"\"}}}],\"scatterternary\":[{\"type\":\"scatterternary\",\"marker\":{\"colorbar\":{\"outlinewidth\":0,\"ticks\":\"\"}}}],\"scattercarpet\":[{\"type\":\"scattercarpet\",\"marker\":{\"colorbar\":{\"outlinewidth\":0,\"ticks\":\"\"}}}],\"carpet\":[{\"aaxis\":{\"endlinecolor\":\"#2a3f5f\",\"gridcolor\":\"white\",\"linecolor\":\"white\",\"minorgridcolor\":\"white\",\"startlinecolor\":\"#2a3f5f\"},\"baxis\":{\"endlinecolor\":\"#2a3f5f\",\"gridcolor\":\"white\",\"linecolor\":\"white\",\"minorgridcolor\":\"white\",\"startlinecolor\":\"#2a3f5f\"},\"type\":\"carpet\"}],\"table\":[{\"cells\":{\"fill\":{\"color\":\"#EBF0F8\"},\"line\":{\"color\":\"white\"}},\"header\":{\"fill\":{\"color\":\"#C8D4E3\"},\"line\":{\"color\":\"white\"}},\"type\":\"table\"}],\"barpolar\":[{\"marker\":{\"line\":{\"color\":\"#E5ECF6\",\"width\":0.5},\"pattern\":{\"fillmode\":\"overlay\",\"size\":10,\"solidity\":0.2}},\"type\":\"barpolar\"}],\"pie\":[{\"automargin\":true,\"type\":\"pie\"}]},\"layout\":{\"autotypenumbers\":\"strict\",\"colorway\":[\"#636efa\",\"#EF553B\",\"#00cc96\",\"#ab63fa\",\"#FFA15A\",\"#19d3f3\",\"#FF6692\",\"#B6E880\",\"#FF97FF\",\"#FECB52\"],\"font\":{\"color\":\"#2a3f5f\"},\"hovermode\":\"closest\",\"hoverlabel\":{\"align\":\"left\"},\"paper_bgcolor\":\"white\",\"plot_bgcolor\":\"#E5ECF6\",\"polar\":{\"bgcolor\":\"#E5ECF6\",\"angularaxis\":{\"gridcolor\":\"white\",\"linecolor\":\"white\",\"ticks\":\"\"},\"radialaxis\":{\"gridcolor\":\"white\",\"linecolor\":\"white\",\"ticks\":\"\"}},\"ternary\":{\"bgcolor\":\"#E5ECF6\",\"aaxis\":{\"gridcolor\":\"white\",\"linecolor\":\"white\",\"ticks\":\"\"},\"baxis\":{\"gridcolor\":\"white\",\"linecolor\":\"white\",\"ticks\":\"\"},\"caxis\":{\"gridcolor\":\"white\",\"linecolor\":\"white\",\"ticks\":\"\"}},\"coloraxis\":{\"colorbar\":{\"outlinewidth\":0,\"ticks\":\"\"}},\"colorscale\":{\"sequential\":[[0.0,\"#0d0887\"],[0.1111111111111111,\"#46039f\"],[0.2222222222222222,\"#7201a8\"],[0.3333333333333333,\"#9c179e\"],[0.4444444444444444,\"#bd3786\"],[0.5555555555555556,\"#d8576b\"],[0.6666666666666666,\"#ed7953\"],[0.7777777777777778,\"#fb9f3a\"],[0.8888888888888888,\"#fdca26\"],[1.0,\"#f0f921\"]],\"sequentialminus\":[[0.0,\"#0d0887\"],[0.1111111111111111,\"#46039f\"],[0.2222222222222222,\"#7201a8\"],[0.3333333333333333,\"#9c179e\"],[0.4444444444444444,\"#bd3786\"],[0.5555555555555556,\"#d8576b\"],[0.6666666666666666,\"#ed7953\"],[0.7777777777777778,\"#fb9f3a\"],[0.8888888888888888,\"#fdca26\"],[1.0,\"#f0f921\"]],\"diverging\":[[0,\"#8e0152\"],[0.1,\"#c51b7d\"],[0.2,\"#de77ae\"],[0.3,\"#f1b6da\"],[0.4,\"#fde0ef\"],[0.5,\"#f7f7f7\"],[0.6,\"#e6f5d0\"],[0.7,\"#b8e186\"],[0.8,\"#7fbc41\"],[0.9,\"#4d9221\"],[1,\"#276419\"]]},\"xaxis\":{\"gridcolor\":\"white\",\"linecolor\":\"white\",\"ticks\":\"\",\"title\":{\"standoff\":15},\"zerolinecolor\":\"white\",\"automargin\":true,\"zerolinewidth\":2},\"yaxis\":{\"gridcolor\":\"white\",\"linecolor\":\"white\",\"ticks\":\"\",\"title\":{\"standoff\":15},\"zerolinecolor\":\"white\",\"automargin\":true,\"zerolinewidth\":2},\"scene\":{\"xaxis\":{\"backgroundcolor\":\"#E5ECF6\",\"gridcolor\":\"white\",\"linecolor\":\"white\",\"showbackground\":true,\"ticks\":\"\",\"zerolinecolor\":\"white\",\"gridwidth\":2},\"yaxis\":{\"backgroundcolor\":\"#E5ECF6\",\"gridcolor\":\"white\",\"linecolor\":\"white\",\"showbackground\":true,\"ticks\":\"\",\"zerolinecolor\":\"white\",\"gridwidth\":2},\"zaxis\":{\"backgroundcolor\":\"#E5ECF6\",\"gridcolor\":\"white\",\"linecolor\":\"white\",\"showbackground\":true,\"ticks\":\"\",\"zerolinecolor\":\"white\",\"gridwidth\":2}},\"shapedefaults\":{\"line\":{\"color\":\"#2a3f5f\"}},\"annotationdefaults\":{\"arrowcolor\":\"#2a3f5f\",\"arrowhead\":0,\"arrowwidth\":1},\"geo\":{\"bgcolor\":\"white\",\"landcolor\":\"#E5ECF6\",\"subunitcolor\":\"white\",\"showland\":true,\"showlakes\":true,\"lakecolor\":\"white\"},\"title\":{\"x\":0.05},\"mapbox\":{\"style\":\"light\"}}},\"geo\":{\"domain\":{\"x\":[0.0,1.0],\"y\":[0.0,1.0]},\"center\":{},\"projection\":{\"type\":\"natural earth\"},\"showcoastlines\":true,\"coastlinecolor\":\"Black\"},\"coloraxis\":{\"colorbar\":{\"title\":{\"text\":\"Number of Actions\"}},\"colorscale\":[[0.0,\"#0d0887\"],[0.1111111111111111,\"#46039f\"],[0.2222222222222222,\"#7201a8\"],[0.3333333333333333,\"#9c179e\"],[0.4444444444444444,\"#bd3786\"],[0.5555555555555556,\"#d8576b\"],[0.6666666666666666,\"#ed7953\"],[0.7777777777777778,\"#fb9f3a\"],[0.8888888888888888,\"#fdca26\"],[1.0,\"#f0f921\"]]},\"legend\":{\"tracegroupgap\":0},\"title\":{\"text\":\"Actions Performed by Device Type Worldwide\",\"font\":{\"size\":24,\"color\":\"blue\",\"family\":\"Arial\"}},\"updatemenus\":[{\"buttons\":[{\"args\":[null,{\"frame\":{\"duration\":500,\"redraw\":true},\"mode\":\"immediate\",\"fromcurrent\":true,\"transition\":{\"duration\":500,\"easing\":\"linear\"}}],\"label\":\"&#9654;\",\"method\":\"animate\"},{\"args\":[[null],{\"frame\":{\"duration\":0,\"redraw\":true},\"mode\":\"immediate\",\"fromcurrent\":true,\"transition\":{\"duration\":0,\"easing\":\"linear\"}}],\"label\":\"&#9724;\",\"method\":\"animate\"}],\"direction\":\"left\",\"pad\":{\"r\":10,\"t\":70},\"showactive\":false,\"type\":\"buttons\",\"x\":0.1,\"xanchor\":\"right\",\"y\":0,\"yanchor\":\"top\"}],\"sliders\":[{\"active\":0,\"currentvalue\":{\"prefix\":\"device=\"},\"len\":0.9,\"pad\":{\"b\":10,\"t\":60},\"steps\":[{\"args\":[[\"desktop\"],{\"frame\":{\"duration\":0,\"redraw\":true},\"mode\":\"immediate\",\"fromcurrent\":true,\"transition\":{\"duration\":0,\"easing\":\"linear\"}}],\"label\":\"desktop\",\"method\":\"animate\"},{\"args\":[[\"mobile\"],{\"frame\":{\"duration\":0,\"redraw\":true},\"mode\":\"immediate\",\"fromcurrent\":true,\"transition\":{\"duration\":0,\"easing\":\"linear\"}}],\"label\":\"mobile\",\"method\":\"animate\"},{\"args\":[[\"tablet\"],{\"frame\":{\"duration\":0,\"redraw\":true},\"mode\":\"immediate\",\"fromcurrent\":true,\"transition\":{\"duration\":0,\"easing\":\"linear\"}}],\"label\":\"tablet\",\"method\":\"animate\"}],\"x\":0.1,\"xanchor\":\"left\",\"y\":0,\"yanchor\":\"top\"}],\"width\":1000,\"height\":600},                        {\"responsive\": true}                    ).then(function(){\n",
       "                            Plotly.addFrames('4eb67024-b066-46cf-9e52-148d656496a1', [{\"data\":[{\"coloraxis\":\"coloraxis\",\"geo\":\"geo\",\"hovertemplate\":\"\\u003cb\\u003e%{hovertext}\\u003c\\u002fb\\u003e\\u003cbr\\u003e\\u003cbr\\u003edevice=desktop\\u003cbr\\u003eCountry=%{location}\\u003cbr\\u003eNumber of Actions=%{z}\\u003cextra\\u003e\\u003c\\u002fextra\\u003e\",\"hovertext\":[\"desktop\",\"desktop\",\"desktop\",\"desktop\",\"desktop\",\"desktop\",\"desktop\",\"desktop\",\"desktop\",\"desktop\",\"desktop\",\"desktop\",\"desktop\",\"desktop\",\"desktop\",\"desktop\",\"desktop\",\"desktop\",\"desktop\",\"desktop\",\"desktop\",\"desktop\",\"desktop\",\"desktop\",\"desktop\",\"desktop\",\"desktop\",\"desktop\",\"desktop\",\"desktop\",\"desktop\",\"desktop\",\"desktop\",\"desktop\",\"desktop\",\"desktop\",\"desktop\",\"desktop\",\"desktop\",\"desktop\",\"desktop\",\"desktop\",\"desktop\",\"desktop\",\"desktop\",\"desktop\",\"desktop\",\"desktop\",\"desktop\",\"desktop\",\"desktop\",\"desktop\",\"desktop\",\"desktop\",\"desktop\",\"desktop\",\"desktop\",\"desktop\",\"desktop\",\"desktop\",\"desktop\",\"desktop\",\"desktop\",\"desktop\",\"desktop\",\"desktop\",\"desktop\",\"desktop\",\"desktop\",\"desktop\",\"desktop\",\"desktop\",\"desktop\",\"desktop\",\"desktop\",\"desktop\",\"desktop\",\"desktop\",\"desktop\",\"desktop\",\"desktop\",\"desktop\",\"desktop\",\"desktop\",\"desktop\",\"desktop\",\"desktop\",\"desktop\",\"desktop\",\"desktop\",\"desktop\",\"desktop\",\"desktop\",\"desktop\",\"desktop\",\"desktop\",\"desktop\",\"desktop\",\"desktop\",\"desktop\",\"desktop\",\"desktop\",\"desktop\",\"desktop\"],\"locationmode\":\"country names\",\"locations\":[\"Albania \",\"Algeria \",\"Argentina \",\"Australia\",\"Austria\",\"Azerbaijan or Azerbaidjan (Former Azerbaijan Soviet Socialist Republic)\",\"Bahamas, Commonwealth of The\",\"Bahrain, Kingdom of (Former Dilmun)\",\"Bangladesh (Former East Pakistan)\",\"Belarus (Former Belorussian [Byelorussian] Soviet Socialist Republic)\",\"Belgium \",\"Bolivia \",\"Bosnia and Herzegovina \",\"Brazil \",\"Bulgaria \",\"Cambodia, Kingdom of (Former Khmer Republic, Kampuchea Republic)\",\"Canada \",\"Chile \",\"China \",\"Colombia \",\"Costa Rica \",\"Croatia (Hrvatska) \",\"Cyprus \",\"Czech Republic\",\"Denmark \",\"Dominican Republic \",\"Ecuador \",\"Egypt (Former United Arab Republic - with Syria)\",\"El Salvador \",\"Estonia (Former Estonian Soviet Socialist Republic)\",\"Finland \",\"France \",\"Georgia (Former Georgian Soviet Socialist Republic)\",\"Germany \",\"Ghana (Former Gold Coast)\",\"Great Britain (United Kingdom) \",\"Greece \",\"Guatemala \",\"Honduras \",\"Hong Kong \",\"Hungary \",\"Iceland \",\"India \",\"Indonesia (Former Netherlands East Indies; Dutch East Indies)\",\"Iraq \",\"Ireland \",\"Israel \",\"Italy \",\"Jamaica \",\"Japan \",\"Jordan (Former Transjordan)\",\"Kazakstan or Kazakhstan (Former Kazakh Soviet Socialist Republic)\",\"Kenya (Former British East Africa)\",\"Korea, Republic of (South Korea) \",\"Kuwait \",\"Latvia (Former Latvian Soviet Socialist Republic)\",\"Lebanon \",\"Lithuania (Former Lithuanian Soviet Socialist Republic)\",\"Luxembourg \",\"Macau \",\"Macedonia, The Former Yugoslav Republic of\",\"Malaysia \",\"Malta \",\"Mexico \",\"Mongolia (Former Outer Mongolia)\",\"Morocco \",\"Nepal \",\"Netherlands \",\"New Zealand (Aotearoa) \",\"Nigeria \",\"Norway \",\"Oman, Sultanate of (Former Muscat and Oman)\",\"Pakistan (Former West Pakistan)\",\"Palestinian State (Proposed)\",\"Panama \",\"Paraguay \",\"Peru \",\"Philippines \",\"Poland \",\"Portugal \",\"Puerto Rico \",\"Qatar, State of \",\"Romania \",\"Russian Federation \",\"Saudi Arabia \",\"Serbia, Republic of\",\"Singapore \",\"Slovakia\",\"Slovenia \",\"South Africa (Former Union of South Africa)\",\"Spain \",\"Sri Lanka (Former Serendib, Ceylon) \",\"Sweden \",\"Switzerland \",\"Taiwan (Former Formosa)\",\"Thailand (Former Siam)\",\"Tunisia \",\"Turkey \",\"Ukraine (Former Ukrainian National Republic, Ukrainian State, Ukrainian Soviet Socialist Republic)\",\"United Arab Emirates (UAE) (Former Trucial Oman, Trucial States)\",\"United States \",\"Uruguay, Oriental Republic of (Former Banda Oriental, Cisplatine Province)\",\"Venezuela \",\"Vietnam \"],\"name\":\"\",\"z\":[26,169,346,1862,603,48,13,41,663,109,949,13,13,1340,125,76,13814,346,3338,651,60,146,92,292,577,271,99,222,125,32,205,4041,30,2988,37,5163,545,116,24,1040,235,33,15888,1294,273,1009,724,3034,26,2156,40,165,30,1998,82,27,4,70,13,16,114,956,42,1709,86,438,1,1913,204,177,273,14,439,51,127,37,952,756,1954,478,129,166,213,1146,486,119,2673,120,183,185,3810,358,686,1367,3089,623,187,1839,772,512,80069,180,25,612],\"type\":\"choropleth\"}],\"name\":\"desktop\"},{\"data\":[{\"coloraxis\":\"coloraxis\",\"geo\":\"geo\",\"hovertemplate\":\"\\u003cb\\u003e%{hovertext}\\u003c\\u002fb\\u003e\\u003cbr\\u003e\\u003cbr\\u003edevice=mobile\\u003cbr\\u003eCountry=%{location}\\u003cbr\\u003eNumber of Actions=%{z}\\u003cextra\\u003e\\u003c\\u002fextra\\u003e\",\"hovertext\":[\"mobile\",\"mobile\",\"mobile\",\"mobile\",\"mobile\",\"mobile\",\"mobile\",\"mobile\",\"mobile\",\"mobile\",\"mobile\",\"mobile\",\"mobile\",\"mobile\",\"mobile\",\"mobile\",\"mobile\",\"mobile\",\"mobile\",\"mobile\",\"mobile\",\"mobile\",\"mobile\",\"mobile\",\"mobile\",\"mobile\",\"mobile\",\"mobile\",\"mobile\",\"mobile\",\"mobile\",\"mobile\",\"mobile\",\"mobile\",\"mobile\",\"mobile\",\"mobile\",\"mobile\",\"mobile\",\"mobile\",\"mobile\",\"mobile\",\"mobile\",\"mobile\",\"mobile\",\"mobile\",\"mobile\",\"mobile\",\"mobile\",\"mobile\",\"mobile\",\"mobile\",\"mobile\",\"mobile\",\"mobile\",\"mobile\",\"mobile\",\"mobile\",\"mobile\",\"mobile\",\"mobile\",\"mobile\",\"mobile\",\"mobile\",\"mobile\",\"mobile\",\"mobile\",\"mobile\",\"mobile\",\"mobile\",\"mobile\",\"mobile\",\"mobile\",\"mobile\",\"mobile\",\"mobile\",\"mobile\",\"mobile\",\"mobile\",\"mobile\",\"mobile\",\"mobile\",\"mobile\",\"mobile\",\"mobile\",\"mobile\",\"mobile\",\"mobile\",\"mobile\",\"mobile\",\"mobile\",\"mobile\",\"mobile\",\"mobile\",\"mobile\",\"mobile\",\"mobile\",\"mobile\",\"mobile\",\"mobile\",\"mobile\",\"mobile\",\"mobile\"],\"locationmode\":\"country names\",\"locations\":[\"Albania \",\"Algeria \",\"Argentina \",\"Armenia\",\"Australia\",\"Austria\",\"Azerbaijan or Azerbaidjan (Former Azerbaijan Soviet Socialist Republic)\",\"Bahamas, Commonwealth of The\",\"Bahrain, Kingdom of (Former Dilmun)\",\"Bangladesh (Former East Pakistan)\",\"Belarus (Former Belorussian [Byelorussian] Soviet Socialist Republic)\",\"Belgium \",\"Bolivia \",\"Bosnia and Herzegovina \",\"Brazil \",\"Bulgaria \",\"Canada \",\"Chile \",\"China \",\"Colombia \",\"Costa Rica \",\"Croatia (Hrvatska) \",\"Cyprus \",\"Czech Republic\",\"Denmark \",\"Dominican Republic \",\"Ecuador \",\"Egypt (Former United Arab Republic - with Syria)\",\"El Salvador \",\"Finland \",\"France \",\"Georgia (Former Georgian Soviet Socialist Republic)\",\"Germany \",\"Ghana (Former Gold Coast)\",\"Great Britain (United Kingdom) \",\"Greece \",\"Guatemala \",\"Honduras \",\"Hong Kong \",\"Hungary \",\"Iceland \",\"India \",\"Indonesia (Former Netherlands East Indies; Dutch East Indies)\",\"Iraq \",\"Ireland \",\"Israel \",\"Italy \",\"Jamaica \",\"Japan \",\"Jordan (Former Transjordan)\",\"Kazakstan or Kazakhstan (Former Kazakh Soviet Socialist Republic)\",\"Kenya (Former British East Africa)\",\"Korea, Republic of (South Korea) \",\"Kuwait \",\"Latvia (Former Latvian Soviet Socialist Republic)\",\"Lebanon \",\"Lithuania (Former Lithuanian Soviet Socialist Republic)\",\"Luxembourg \",\"Macau \",\"Macedonia, The Former Yugoslav Republic of\",\"Malaysia \",\"Mexico \",\"Mongolia (Former Outer Mongolia)\",\"Morocco \",\"Myanmar, Union of (Former Burma)\",\"Nepal \",\"Netherlands \",\"New Zealand (Aotearoa) \",\"Nigeria \",\"Norway \",\"Oman, Sultanate of (Former Muscat and Oman)\",\"Pakistan (Former West Pakistan)\",\"Palestinian State (Proposed)\",\"Paraguay \",\"Peru \",\"Philippines \",\"Poland \",\"Portugal \",\"Puerto Rico \",\"Qatar, State of \",\"Romania \",\"Russian Federation \",\"Saudi Arabia \",\"Serbia, Republic of\",\"Singapore \",\"Slovakia\",\"Slovenia \",\"South Africa (Former Union of South Africa)\",\"Spain \",\"Sri Lanka (Former Serendib, Ceylon) \",\"Sweden \",\"Switzerland \",\"Taiwan (Former Formosa)\",\"Thailand (Former Siam)\",\"Trinidad and Tobago \",\"Tunisia \",\"Turkey \",\"Ukraine (Former Ukrainian National Republic, Ukrainian State, Ukrainian Soviet Socialist Republic)\",\"United Arab Emirates (UAE) (Former Trucial Oman, Trucial States)\",\"United States \",\"Uruguay, Oriental Republic of (Former Banda Oriental, Cisplatine Province)\",\"Venezuela \",\"Vietnam \"],\"name\":\"\",\"z\":[30,102,495,49,731,314,50,24,26,331,62,351,44,44,1746,261,10124,80,2067,864,76,235,72,532,428,95,97,315,60,298,1741,26,1868,48,4079,714,126,1,523,103,64,11476,935,72,911,480,1664,25,1735,35,82,14,1444,140,17,3,27,87,25,12,710,971,19,214,14,24,1336,153,102,360,29,455,36,78,675,345,1453,686,55,25,294,819,143,25,1166,137,113,218,2291,375,860,423,2128,593,24,49,1135,432,113,53967,62,24,464],\"type\":\"choropleth\"}],\"name\":\"mobile\"},{\"data\":[{\"coloraxis\":\"coloraxis\",\"geo\":\"geo\",\"hovertemplate\":\"\\u003cb\\u003e%{hovertext}\\u003c\\u002fb\\u003e\\u003cbr\\u003e\\u003cbr\\u003edevice=tablet\\u003cbr\\u003eCountry=%{location}\\u003cbr\\u003eNumber of Actions=%{z}\\u003cextra\\u003e\\u003c\\u002fextra\\u003e\",\"hovertext\":[\"tablet\",\"tablet\",\"tablet\",\"tablet\",\"tablet\",\"tablet\",\"tablet\",\"tablet\",\"tablet\",\"tablet\",\"tablet\",\"tablet\",\"tablet\",\"tablet\",\"tablet\",\"tablet\",\"tablet\",\"tablet\",\"tablet\",\"tablet\",\"tablet\",\"tablet\",\"tablet\",\"tablet\",\"tablet\",\"tablet\",\"tablet\",\"tablet\",\"tablet\",\"tablet\",\"tablet\",\"tablet\",\"tablet\",\"tablet\",\"tablet\",\"tablet\",\"tablet\",\"tablet\",\"tablet\",\"tablet\",\"tablet\",\"tablet\",\"tablet\",\"tablet\",\"tablet\",\"tablet\",\"tablet\",\"tablet\"],\"locationmode\":\"country names\",\"locations\":[\"Albania \",\"Australia\",\"Austria\",\"Brazil \",\"Bulgaria \",\"Canada \",\"Chile \",\"China \",\"Croatia (Hrvatska) \",\"Czech Republic\",\"Denmark \",\"Finland \",\"France \",\"Germany \",\"Great Britain (United Kingdom) \",\"Hong Kong \",\"India \",\"Indonesia (Former Netherlands East Indies; Dutch East Indies)\",\"Ireland \",\"Israel \",\"Italy \",\"Japan \",\"Korea, Republic of (South Korea) \",\"Lebanon \",\"Malaysia \",\"Mexico \",\"Mongolia (Former Outer Mongolia)\",\"Morocco \",\"Nepal \",\"Netherlands \",\"Pakistan (Former West Pakistan)\",\"Palestinian State (Proposed)\",\"Philippines \",\"Poland \",\"Romania \",\"Russian Federation \",\"Singapore \",\"Spain \",\"Sweden \",\"Switzerland \",\"Taiwan (Former Formosa)\",\"Thailand (Former Siam)\",\"Turkey \",\"Ukraine (Former Ukrainian National Republic, Ukrainian State, Ukrainian Soviet Socialist Republic)\",\"United Arab Emirates (UAE) (Former Trucial Oman, Trucial States)\",\"United States \",\"Uruguay, Oriental Republic of (Former Banda Oriental, Cisplatine Province)\",\"Vietnam \"],\"name\":\"\",\"z\":[13,14,27,94,12,515,35,74,1,5,12,23,53,130,211,68,483,65,42,12,60,53,104,13,14,170,1,4,12,188,1,68,172,12,48,27,195,116,50,2,93,106,26,1,30,3022,86,15],\"type\":\"choropleth\"}],\"name\":\"tablet\"}]);\n",
       "                        }).then(function(){\n",
       "                            \n",
       "var gd = document.getElementById('4eb67024-b066-46cf-9e52-148d656496a1');\n",
       "var x = new MutationObserver(function (mutations, observer) {{\n",
       "        var display = window.getComputedStyle(gd).display;\n",
       "        if (!display || display === 'none') {{\n",
       "            console.log([gd, 'removed!']);\n",
       "            Plotly.purge(gd);\n",
       "            observer.disconnect();\n",
       "        }}\n",
       "}});\n",
       "\n",
       "// Listen for the removal of the full notebook cells\n",
       "var notebookContainer = gd.closest('#notebook-container');\n",
       "if (notebookContainer) {{\n",
       "    x.observe(notebookContainer, {childList: true});\n",
       "}}\n",
       "\n",
       "// Listen for the clearing of the current output cell\n",
       "var outputEl = gd.closest('.output');\n",
       "if (outputEl) {{\n",
       "    x.observe(outputEl, {childList: true});\n",
       "}}\n",
       "\n",
       "                        })                };                });            </script>        </div>"
      ]
     },
     "metadata": {},
     "output_type": "display_data"
    }
   ],
   "source": [
    "device_action_counts = Google_sales_Data.groupby(['Country', 'device']).size().reset_index(name='count')\n",
    "\n",
    "fig = px.choropleth(\n",
    "    device_action_counts,\n",
    "    locations='Country',           \n",
    "    locationmode='country names', \n",
    "    color='count',                 \n",
    "    hover_name='device',           \n",
    "    animation_frame='device',       \n",
    "    title='Actions Performed by Device Type Worldwide',\n",
    "    color_continuous_scale=px.colors.sequential.Plasma, \n",
    "    labels={'count': 'Number of Actions'}\n",
    ")\n",
    "\n",
    "fig.update_layout(\n",
    "    title_font=dict(size=24, color='blue', family='Arial'),\n",
    "    geo=dict(\n",
    "         showcoastlines=True, \n",
    "        coastlinecolor=\"Black\",\n",
    "         projection_type=\"natural earth\"\n",
    "    ), \n",
    "    width=1000, \n",
    "    height=600  \n",
    ")\n",
    "fig.show()"
   ]
  },
  {
   "cell_type": "code",
   "execution_count": null,
   "id": "c4b80e2f-260d-4046-baf6-18bb41dc46e3",
   "metadata": {},
   "outputs": [],
   "source": []
  }
 ],
 "metadata": {
  "kernelspec": {
   "display_name": "Python 3 (ipykernel)",
   "language": "python",
   "name": "python3"
  },
  "language_info": {
   "codemirror_mode": {
    "name": "ipython",
    "version": 3
   },
   "file_extension": ".py",
   "mimetype": "text/x-python",
   "name": "python",
   "nbconvert_exporter": "python",
   "pygments_lexer": "ipython3",
   "version": "3.12.7"
  }
 },
 "nbformat": 4,
 "nbformat_minor": 5
}
